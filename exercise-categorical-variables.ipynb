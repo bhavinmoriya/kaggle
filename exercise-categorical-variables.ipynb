{
 "cells": [
  {
   "cell_type": "markdown",
   "id": "d03c906e",
   "metadata": {
    "papermill": {
     "duration": 0.048556,
     "end_time": "2021-07-13T13:21:10.384595",
     "exception": false,
     "start_time": "2021-07-13T13:21:10.336039",
     "status": "completed"
    },
    "tags": []
   },
   "source": [
    "**This notebook is an exercise in the [Intermediate Machine Learning](https://www.kaggle.com/learn/intermediate-machine-learning) course.  You can reference the tutorial at [this link](https://www.kaggle.com/alexisbcook/categorical-variables).**\n",
    "\n",
    "---\n"
   ]
  },
  {
   "cell_type": "markdown",
   "id": "7164d103",
   "metadata": {
    "papermill": {
     "duration": 0.048057,
     "end_time": "2021-07-13T13:21:10.481327",
     "exception": false,
     "start_time": "2021-07-13T13:21:10.433270",
     "status": "completed"
    },
    "tags": []
   },
   "source": [
    "By encoding **categorical variables**, you'll obtain your best results thus far!\n",
    "\n",
    "# Setup\n",
    "\n",
    "The questions below will give you feedback on your work. Run the following cell to set up the feedback system."
   ]
  },
  {
   "cell_type": "code",
   "execution_count": 1,
   "id": "c2c20af1",
   "metadata": {
    "execution": {
     "iopub.execute_input": "2021-07-13T13:21:10.586423Z",
     "iopub.status.busy": "2021-07-13T13:21:10.581914Z",
     "iopub.status.idle": "2021-07-13T13:21:10.772313Z",
     "shell.execute_reply": "2021-07-13T13:21:10.772998Z",
     "shell.execute_reply.started": "2021-07-13T13:09:56.148276Z"
    },
    "papermill": {
     "duration": 0.24596,
     "end_time": "2021-07-13T13:21:10.773394",
     "exception": false,
     "start_time": "2021-07-13T13:21:10.527434",
     "status": "completed"
    },
    "tags": []
   },
   "outputs": [
    {
     "name": "stdout",
     "output_type": "stream",
     "text": [
      "Setup Complete\n"
     ]
    }
   ],
   "source": [
    "# Set up code checking\n",
    "import os\n",
    "if not os.path.exists(\"../input/train.csv\"):\n",
    "    os.symlink(\"../input/home-data-for-ml-course/train.csv\", \"../input/train.csv\")  \n",
    "    os.symlink(\"../input/home-data-for-ml-course/test.csv\", \"../input/test.csv\") \n",
    "from learntools.core import binder\n",
    "binder.bind(globals())\n",
    "from learntools.ml_intermediate.ex3 import *\n",
    "print(\"Setup Complete\")"
   ]
  },
  {
   "cell_type": "markdown",
   "id": "e80abc29",
   "metadata": {
    "papermill": {
     "duration": 0.04644,
     "end_time": "2021-07-13T13:21:10.867737",
     "exception": false,
     "start_time": "2021-07-13T13:21:10.821297",
     "status": "completed"
    },
    "tags": []
   },
   "source": [
    "In this exercise, you will work with data from the [Housing Prices Competition for Kaggle Learn Users](https://www.kaggle.com/c/home-data-for-ml-course). \n",
    "\n",
    "![Ames Housing dataset image](https://i.imgur.com/lTJVG4e.png)\n",
    "\n",
    "Run the next code cell without changes to load the training and validation sets in `X_train`, `X_valid`, `y_train`, and `y_valid`.  The test set is loaded in `X_test`."
   ]
  },
  {
   "cell_type": "code",
   "execution_count": 2,
   "id": "c931c955",
   "metadata": {
    "execution": {
     "iopub.execute_input": "2021-07-13T13:21:10.966971Z",
     "iopub.status.busy": "2021-07-13T13:21:10.965855Z",
     "iopub.status.idle": "2021-07-13T13:21:12.134158Z",
     "shell.execute_reply": "2021-07-13T13:21:12.133541Z",
     "shell.execute_reply.started": "2021-07-13T13:09:56.161282Z"
    },
    "papermill": {
     "duration": 1.219269,
     "end_time": "2021-07-13T13:21:12.134329",
     "exception": false,
     "start_time": "2021-07-13T13:21:10.915060",
     "status": "completed"
    },
    "tags": []
   },
   "outputs": [],
   "source": [
    "import pandas as pd\n",
    "from sklearn.model_selection import train_test_split\n",
    "\n",
    "# Read the data\n",
    "X = pd.read_csv('../input/train.csv', index_col='Id') \n",
    "X_test = pd.read_csv('../input/test.csv', index_col='Id')\n",
    "\n",
    "# Remove rows with missing target, separate target from predictors\n",
    "X.dropna(axis=0, subset=['SalePrice'], inplace=True)\n",
    "y = X.SalePrice\n",
    "X.drop(['SalePrice'], axis=1, inplace=True)\n",
    "\n",
    "# To keep things simple, we'll drop columns with missing values\n",
    "cols_with_missing = [col for col in X.columns if X[col].isnull().any()] \n",
    "X.drop(cols_with_missing, axis=1, inplace=True)\n",
    "X_test.drop(cols_with_missing, axis=1, inplace=True)\n",
    "\n",
    "# Break off validation set from training data\n",
    "X_train, X_valid, y_train, y_valid = train_test_split(X, y,\n",
    "                                                      train_size=0.8, test_size=0.2,\n",
    "                                                      random_state=0)"
   ]
  },
  {
   "cell_type": "markdown",
   "id": "d1fc43b0",
   "metadata": {
    "papermill": {
     "duration": 0.046255,
     "end_time": "2021-07-13T13:21:12.227732",
     "exception": false,
     "start_time": "2021-07-13T13:21:12.181477",
     "status": "completed"
    },
    "tags": []
   },
   "source": [
    "Use the next code cell to print the first five rows of the data."
   ]
  },
  {
   "cell_type": "code",
   "execution_count": 3,
   "id": "e62608d4",
   "metadata": {
    "execution": {
     "iopub.execute_input": "2021-07-13T13:21:12.332734Z",
     "iopub.status.busy": "2021-07-13T13:21:12.331967Z",
     "iopub.status.idle": "2021-07-13T13:21:12.360759Z",
     "shell.execute_reply": "2021-07-13T13:21:12.361302Z",
     "shell.execute_reply.started": "2021-07-13T13:09:56.278016Z"
    },
    "papermill": {
     "duration": 0.086984,
     "end_time": "2021-07-13T13:21:12.361507",
     "exception": false,
     "start_time": "2021-07-13T13:21:12.274523",
     "status": "completed"
    },
    "tags": []
   },
   "outputs": [
    {
     "data": {
      "text/html": [
       "<div>\n",
       "<style scoped>\n",
       "    .dataframe tbody tr th:only-of-type {\n",
       "        vertical-align: middle;\n",
       "    }\n",
       "\n",
       "    .dataframe tbody tr th {\n",
       "        vertical-align: top;\n",
       "    }\n",
       "\n",
       "    .dataframe thead th {\n",
       "        text-align: right;\n",
       "    }\n",
       "</style>\n",
       "<table border=\"1\" class=\"dataframe\">\n",
       "  <thead>\n",
       "    <tr style=\"text-align: right;\">\n",
       "      <th></th>\n",
       "      <th>MSSubClass</th>\n",
       "      <th>MSZoning</th>\n",
       "      <th>LotArea</th>\n",
       "      <th>Street</th>\n",
       "      <th>LotShape</th>\n",
       "      <th>LandContour</th>\n",
       "      <th>Utilities</th>\n",
       "      <th>LotConfig</th>\n",
       "      <th>LandSlope</th>\n",
       "      <th>Neighborhood</th>\n",
       "      <th>...</th>\n",
       "      <th>OpenPorchSF</th>\n",
       "      <th>EnclosedPorch</th>\n",
       "      <th>3SsnPorch</th>\n",
       "      <th>ScreenPorch</th>\n",
       "      <th>PoolArea</th>\n",
       "      <th>MiscVal</th>\n",
       "      <th>MoSold</th>\n",
       "      <th>YrSold</th>\n",
       "      <th>SaleType</th>\n",
       "      <th>SaleCondition</th>\n",
       "    </tr>\n",
       "    <tr>\n",
       "      <th>Id</th>\n",
       "      <th></th>\n",
       "      <th></th>\n",
       "      <th></th>\n",
       "      <th></th>\n",
       "      <th></th>\n",
       "      <th></th>\n",
       "      <th></th>\n",
       "      <th></th>\n",
       "      <th></th>\n",
       "      <th></th>\n",
       "      <th></th>\n",
       "      <th></th>\n",
       "      <th></th>\n",
       "      <th></th>\n",
       "      <th></th>\n",
       "      <th></th>\n",
       "      <th></th>\n",
       "      <th></th>\n",
       "      <th></th>\n",
       "      <th></th>\n",
       "      <th></th>\n",
       "    </tr>\n",
       "  </thead>\n",
       "  <tbody>\n",
       "    <tr>\n",
       "      <th>619</th>\n",
       "      <td>20</td>\n",
       "      <td>RL</td>\n",
       "      <td>11694</td>\n",
       "      <td>Pave</td>\n",
       "      <td>Reg</td>\n",
       "      <td>Lvl</td>\n",
       "      <td>AllPub</td>\n",
       "      <td>Inside</td>\n",
       "      <td>Gtl</td>\n",
       "      <td>NridgHt</td>\n",
       "      <td>...</td>\n",
       "      <td>108</td>\n",
       "      <td>0</td>\n",
       "      <td>0</td>\n",
       "      <td>260</td>\n",
       "      <td>0</td>\n",
       "      <td>0</td>\n",
       "      <td>7</td>\n",
       "      <td>2007</td>\n",
       "      <td>New</td>\n",
       "      <td>Partial</td>\n",
       "    </tr>\n",
       "    <tr>\n",
       "      <th>871</th>\n",
       "      <td>20</td>\n",
       "      <td>RL</td>\n",
       "      <td>6600</td>\n",
       "      <td>Pave</td>\n",
       "      <td>Reg</td>\n",
       "      <td>Lvl</td>\n",
       "      <td>AllPub</td>\n",
       "      <td>Inside</td>\n",
       "      <td>Gtl</td>\n",
       "      <td>NAmes</td>\n",
       "      <td>...</td>\n",
       "      <td>0</td>\n",
       "      <td>0</td>\n",
       "      <td>0</td>\n",
       "      <td>0</td>\n",
       "      <td>0</td>\n",
       "      <td>0</td>\n",
       "      <td>8</td>\n",
       "      <td>2009</td>\n",
       "      <td>WD</td>\n",
       "      <td>Normal</td>\n",
       "    </tr>\n",
       "    <tr>\n",
       "      <th>93</th>\n",
       "      <td>30</td>\n",
       "      <td>RL</td>\n",
       "      <td>13360</td>\n",
       "      <td>Pave</td>\n",
       "      <td>IR1</td>\n",
       "      <td>HLS</td>\n",
       "      <td>AllPub</td>\n",
       "      <td>Inside</td>\n",
       "      <td>Gtl</td>\n",
       "      <td>Crawfor</td>\n",
       "      <td>...</td>\n",
       "      <td>0</td>\n",
       "      <td>44</td>\n",
       "      <td>0</td>\n",
       "      <td>0</td>\n",
       "      <td>0</td>\n",
       "      <td>0</td>\n",
       "      <td>8</td>\n",
       "      <td>2009</td>\n",
       "      <td>WD</td>\n",
       "      <td>Normal</td>\n",
       "    </tr>\n",
       "    <tr>\n",
       "      <th>818</th>\n",
       "      <td>20</td>\n",
       "      <td>RL</td>\n",
       "      <td>13265</td>\n",
       "      <td>Pave</td>\n",
       "      <td>IR1</td>\n",
       "      <td>Lvl</td>\n",
       "      <td>AllPub</td>\n",
       "      <td>CulDSac</td>\n",
       "      <td>Gtl</td>\n",
       "      <td>Mitchel</td>\n",
       "      <td>...</td>\n",
       "      <td>59</td>\n",
       "      <td>0</td>\n",
       "      <td>0</td>\n",
       "      <td>0</td>\n",
       "      <td>0</td>\n",
       "      <td>0</td>\n",
       "      <td>7</td>\n",
       "      <td>2008</td>\n",
       "      <td>WD</td>\n",
       "      <td>Normal</td>\n",
       "    </tr>\n",
       "    <tr>\n",
       "      <th>303</th>\n",
       "      <td>20</td>\n",
       "      <td>RL</td>\n",
       "      <td>13704</td>\n",
       "      <td>Pave</td>\n",
       "      <td>IR1</td>\n",
       "      <td>Lvl</td>\n",
       "      <td>AllPub</td>\n",
       "      <td>Corner</td>\n",
       "      <td>Gtl</td>\n",
       "      <td>CollgCr</td>\n",
       "      <td>...</td>\n",
       "      <td>81</td>\n",
       "      <td>0</td>\n",
       "      <td>0</td>\n",
       "      <td>0</td>\n",
       "      <td>0</td>\n",
       "      <td>0</td>\n",
       "      <td>1</td>\n",
       "      <td>2006</td>\n",
       "      <td>WD</td>\n",
       "      <td>Normal</td>\n",
       "    </tr>\n",
       "  </tbody>\n",
       "</table>\n",
       "<p>5 rows × 60 columns</p>\n",
       "</div>"
      ],
      "text/plain": [
       "     MSSubClass MSZoning  LotArea Street LotShape LandContour Utilities  \\\n",
       "Id                                                                        \n",
       "619          20       RL    11694   Pave      Reg         Lvl    AllPub   \n",
       "871          20       RL     6600   Pave      Reg         Lvl    AllPub   \n",
       "93           30       RL    13360   Pave      IR1         HLS    AllPub   \n",
       "818          20       RL    13265   Pave      IR1         Lvl    AllPub   \n",
       "303          20       RL    13704   Pave      IR1         Lvl    AllPub   \n",
       "\n",
       "    LotConfig LandSlope Neighborhood  ... OpenPorchSF EnclosedPorch 3SsnPorch  \\\n",
       "Id                                    ...                                       \n",
       "619    Inside       Gtl      NridgHt  ...         108             0         0   \n",
       "871    Inside       Gtl        NAmes  ...           0             0         0   \n",
       "93     Inside       Gtl      Crawfor  ...           0            44         0   \n",
       "818   CulDSac       Gtl      Mitchel  ...          59             0         0   \n",
       "303    Corner       Gtl      CollgCr  ...          81             0         0   \n",
       "\n",
       "    ScreenPorch  PoolArea  MiscVal  MoSold  YrSold SaleType SaleCondition  \n",
       "Id                                                                         \n",
       "619         260         0        0       7    2007      New       Partial  \n",
       "871           0         0        0       8    2009       WD        Normal  \n",
       "93            0         0        0       8    2009       WD        Normal  \n",
       "818           0         0        0       7    2008       WD        Normal  \n",
       "303           0         0        0       1    2006       WD        Normal  \n",
       "\n",
       "[5 rows x 60 columns]"
      ]
     },
     "execution_count": 3,
     "metadata": {},
     "output_type": "execute_result"
    }
   ],
   "source": [
    "X_train.head()"
   ]
  },
  {
   "cell_type": "markdown",
   "id": "0c2907ca",
   "metadata": {
    "papermill": {
     "duration": 0.047152,
     "end_time": "2021-07-13T13:21:12.457075",
     "exception": false,
     "start_time": "2021-07-13T13:21:12.409923",
     "status": "completed"
    },
    "tags": []
   },
   "source": [
    "Notice that the dataset contains both numerical and categorical variables.  You'll need to encode the categorical data before training a model.\n",
    "\n",
    "To compare different models, you'll use the same `score_dataset()` function from the tutorial.  This function reports the [mean absolute error](https://en.wikipedia.org/wiki/Mean_absolute_error) (MAE) from a random forest model."
   ]
  },
  {
   "cell_type": "code",
   "execution_count": 4,
   "id": "1b3a67f4",
   "metadata": {
    "execution": {
     "iopub.execute_input": "2021-07-13T13:21:12.556768Z",
     "iopub.status.busy": "2021-07-13T13:21:12.555740Z",
     "iopub.status.idle": "2021-07-13T13:21:12.760886Z",
     "shell.execute_reply": "2021-07-13T13:21:12.760230Z",
     "shell.execute_reply.started": "2021-07-13T13:09:56.310813Z"
    },
    "papermill": {
     "duration": 0.256407,
     "end_time": "2021-07-13T13:21:12.761083",
     "exception": false,
     "start_time": "2021-07-13T13:21:12.504676",
     "status": "completed"
    },
    "tags": []
   },
   "outputs": [],
   "source": [
    "from sklearn.ensemble import RandomForestRegressor\n",
    "from sklearn.metrics import mean_absolute_error\n",
    "\n",
    "# function for comparing different approaches\n",
    "def score_dataset(X_train, X_valid, y_train, y_valid):\n",
    "    model = RandomForestRegressor(n_estimators=100, random_state=0)\n",
    "    model.fit(X_train, y_train)\n",
    "    preds = model.predict(X_valid)\n",
    "    return mean_absolute_error(y_valid, preds)"
   ]
  },
  {
   "cell_type": "markdown",
   "id": "bf43e458",
   "metadata": {
    "papermill": {
     "duration": 0.047127,
     "end_time": "2021-07-13T13:21:12.856008",
     "exception": false,
     "start_time": "2021-07-13T13:21:12.808881",
     "status": "completed"
    },
    "tags": []
   },
   "source": [
    "# Step 1: Drop columns with categorical data\n",
    "\n",
    "You'll get started with the most straightforward approach.  Use the code cell below to preprocess the data in `X_train` and `X_valid` to remove columns with categorical data.  Set the preprocessed DataFrames to `drop_X_train` and `drop_X_valid`, respectively.  "
   ]
  },
  {
   "cell_type": "code",
   "execution_count": 5,
   "id": "19e63aa1",
   "metadata": {
    "execution": {
     "iopub.execute_input": "2021-07-13T13:21:12.966293Z",
     "iopub.status.busy": "2021-07-13T13:21:12.965143Z",
     "iopub.status.idle": "2021-07-13T13:21:12.987511Z",
     "shell.execute_reply": "2021-07-13T13:21:12.988177Z",
     "shell.execute_reply.started": "2021-07-13T13:09:56.323333Z"
    },
    "papermill": {
     "duration": 0.084816,
     "end_time": "2021-07-13T13:21:12.988382",
     "exception": false,
     "start_time": "2021-07-13T13:21:12.903566",
     "status": "completed"
    },
    "tags": []
   },
   "outputs": [
    {
     "name": "stdout",
     "output_type": "stream",
     "text": [
      "<class 'pandas.core.frame.DataFrame'>\n",
      "Int64Index: 1460 entries, 1 to 1460\n",
      "Data columns (total 60 columns):\n",
      " #   Column         Non-Null Count  Dtype \n",
      "---  ------         --------------  ----- \n",
      " 0   MSSubClass     1460 non-null   int64 \n",
      " 1   MSZoning       1460 non-null   object\n",
      " 2   LotArea        1460 non-null   int64 \n",
      " 3   Street         1460 non-null   object\n",
      " 4   LotShape       1460 non-null   object\n",
      " 5   LandContour    1460 non-null   object\n",
      " 6   Utilities      1460 non-null   object\n",
      " 7   LotConfig      1460 non-null   object\n",
      " 8   LandSlope      1460 non-null   object\n",
      " 9   Neighborhood   1460 non-null   object\n",
      " 10  Condition1     1460 non-null   object\n",
      " 11  Condition2     1460 non-null   object\n",
      " 12  BldgType       1460 non-null   object\n",
      " 13  HouseStyle     1460 non-null   object\n",
      " 14  OverallQual    1460 non-null   int64 \n",
      " 15  OverallCond    1460 non-null   int64 \n",
      " 16  YearBuilt      1460 non-null   int64 \n",
      " 17  YearRemodAdd   1460 non-null   int64 \n",
      " 18  RoofStyle      1460 non-null   object\n",
      " 19  RoofMatl       1460 non-null   object\n",
      " 20  Exterior1st    1460 non-null   object\n",
      " 21  Exterior2nd    1460 non-null   object\n",
      " 22  ExterQual      1460 non-null   object\n",
      " 23  ExterCond      1460 non-null   object\n",
      " 24  Foundation     1460 non-null   object\n",
      " 25  BsmtFinSF1     1460 non-null   int64 \n",
      " 26  BsmtFinSF2     1460 non-null   int64 \n",
      " 27  BsmtUnfSF      1460 non-null   int64 \n",
      " 28  TotalBsmtSF    1460 non-null   int64 \n",
      " 29  Heating        1460 non-null   object\n",
      " 30  HeatingQC      1460 non-null   object\n",
      " 31  CentralAir     1460 non-null   object\n",
      " 32  1stFlrSF       1460 non-null   int64 \n",
      " 33  2ndFlrSF       1460 non-null   int64 \n",
      " 34  LowQualFinSF   1460 non-null   int64 \n",
      " 35  GrLivArea      1460 non-null   int64 \n",
      " 36  BsmtFullBath   1460 non-null   int64 \n",
      " 37  BsmtHalfBath   1460 non-null   int64 \n",
      " 38  FullBath       1460 non-null   int64 \n",
      " 39  HalfBath       1460 non-null   int64 \n",
      " 40  BedroomAbvGr   1460 non-null   int64 \n",
      " 41  KitchenAbvGr   1460 non-null   int64 \n",
      " 42  KitchenQual    1460 non-null   object\n",
      " 43  TotRmsAbvGrd   1460 non-null   int64 \n",
      " 44  Functional     1460 non-null   object\n",
      " 45  Fireplaces     1460 non-null   int64 \n",
      " 46  GarageCars     1460 non-null   int64 \n",
      " 47  GarageArea     1460 non-null   int64 \n",
      " 48  PavedDrive     1460 non-null   object\n",
      " 49  WoodDeckSF     1460 non-null   int64 \n",
      " 50  OpenPorchSF    1460 non-null   int64 \n",
      " 51  EnclosedPorch  1460 non-null   int64 \n",
      " 52  3SsnPorch      1460 non-null   int64 \n",
      " 53  ScreenPorch    1460 non-null   int64 \n",
      " 54  PoolArea       1460 non-null   int64 \n",
      " 55  MiscVal        1460 non-null   int64 \n",
      " 56  MoSold         1460 non-null   int64 \n",
      " 57  YrSold         1460 non-null   int64 \n",
      " 58  SaleType       1460 non-null   object\n",
      " 59  SaleCondition  1460 non-null   object\n",
      "dtypes: int64(33), object(27)\n",
      "memory usage: 695.8+ KB\n"
     ]
    }
   ],
   "source": [
    "X.info()"
   ]
  },
  {
   "cell_type": "code",
   "execution_count": 6,
   "id": "9f9f9c12",
   "metadata": {
    "execution": {
     "iopub.execute_input": "2021-07-13T13:21:13.091988Z",
     "iopub.status.busy": "2021-07-13T13:21:13.091270Z",
     "iopub.status.idle": "2021-07-13T13:21:13.094566Z",
     "shell.execute_reply": "2021-07-13T13:21:13.095321Z",
     "shell.execute_reply.started": "2021-07-13T13:09:56.357539Z"
    },
    "papermill": {
     "duration": 0.059047,
     "end_time": "2021-07-13T13:21:13.095579",
     "exception": false,
     "start_time": "2021-07-13T13:21:13.036532",
     "status": "completed"
    },
    "tags": []
   },
   "outputs": [
    {
     "name": "stdout",
     "output_type": "stream",
     "text": [
      "['MSZoning', 'Street', 'LotShape', 'LandContour', 'Utilities', 'LotConfig', 'LandSlope', 'Neighborhood', 'Condition1', 'Condition2', 'BldgType', 'HouseStyle', 'RoofStyle', 'RoofMatl', 'Exterior1st', 'Exterior2nd', 'ExterQual', 'ExterCond', 'Foundation', 'Heating', 'HeatingQC', 'CentralAir', 'KitchenQual', 'Functional', 'PavedDrive', 'SaleType', 'SaleCondition']\n"
     ]
    }
   ],
   "source": [
    "# list object columns \n",
    "object_cols = [col for col in X.columns if X[col].dtype == 'object']\n",
    "print(object_cols)"
   ]
  },
  {
   "cell_type": "code",
   "execution_count": 7,
   "id": "2adec16d",
   "metadata": {
    "execution": {
     "iopub.execute_input": "2021-07-13T13:21:13.197862Z",
     "iopub.status.busy": "2021-07-13T13:21:13.197192Z",
     "iopub.status.idle": "2021-07-13T13:21:13.209054Z",
     "shell.execute_reply": "2021-07-13T13:21:13.209573Z",
     "shell.execute_reply.started": "2021-07-13T13:09:56.368090Z"
    },
    "papermill": {
     "duration": 0.064179,
     "end_time": "2021-07-13T13:21:13.209769",
     "exception": false,
     "start_time": "2021-07-13T13:21:13.145590",
     "status": "completed"
    },
    "tags": []
   },
   "outputs": [
    {
     "data": {
      "application/javascript": [
       "parent.postMessage({\"jupyterEvent\": \"custom.exercise_interaction\", \"data\": {\"outcomeType\": 1, \"valueTowardsCompletion\": 0.5, \"interactionType\": 1, \"questionType\": 2, \"questionId\": \"1_Drop\", \"learnToolsVersion\": \"0.3.4\", \"failureMessage\": \"\", \"exceptionClass\": \"\", \"trace\": \"\"}}, \"*\")"
      ],
      "text/plain": [
       "<IPython.core.display.Javascript object>"
      ]
     },
     "metadata": {},
     "output_type": "display_data"
    },
    {
     "data": {
      "text/markdown": [
       "<span style=\"color:#33cc33\">Correct</span>"
      ],
      "text/plain": [
       "Correct"
      ]
     },
     "metadata": {},
     "output_type": "display_data"
    }
   ],
   "source": [
    "# Fill in the lines below: drop columns in training and validation data\n",
    "object_col = [col for col in X.columns if X[col].dtype == 'object']\n",
    "drop_X_train = X_train.drop(object_cols, axis=1)\n",
    "drop_X_valid = X_valid.drop(object_cols, axis=1)\n",
    "\n",
    "# Check your answers\n",
    "step_1.check()"
   ]
  },
  {
   "cell_type": "code",
   "execution_count": 8,
   "id": "3fb2902a",
   "metadata": {
    "execution": {
     "iopub.execute_input": "2021-07-13T13:21:13.312882Z",
     "iopub.status.busy": "2021-07-13T13:21:13.312177Z",
     "iopub.status.idle": "2021-07-13T13:21:13.315594Z",
     "shell.execute_reply": "2021-07-13T13:21:13.316098Z",
     "shell.execute_reply.started": "2021-07-13T13:09:56.391662Z"
    },
    "papermill": {
     "duration": 0.057004,
     "end_time": "2021-07-13T13:21:13.316315",
     "exception": false,
     "start_time": "2021-07-13T13:21:13.259311",
     "status": "completed"
    },
    "tags": []
   },
   "outputs": [],
   "source": [
    "# Lines below will give you a hint or solution code\n",
    "#step_1.hint()\n",
    "#step_1.solution()"
   ]
  },
  {
   "cell_type": "markdown",
   "id": "bc689990",
   "metadata": {
    "papermill": {
     "duration": 0.050559,
     "end_time": "2021-07-13T13:21:13.416721",
     "exception": false,
     "start_time": "2021-07-13T13:21:13.366162",
     "status": "completed"
    },
    "tags": []
   },
   "source": [
    "Run the next code cell to get the MAE for this approach."
   ]
  },
  {
   "cell_type": "code",
   "execution_count": 9,
   "id": "97a2d995",
   "metadata": {
    "execution": {
     "iopub.execute_input": "2021-07-13T13:21:13.518942Z",
     "iopub.status.busy": "2021-07-13T13:21:13.518264Z",
     "iopub.status.idle": "2021-07-13T13:21:14.797319Z",
     "shell.execute_reply": "2021-07-13T13:21:14.796557Z",
     "shell.execute_reply.started": "2021-07-13T13:09:56.403601Z"
    },
    "papermill": {
     "duration": 1.331402,
     "end_time": "2021-07-13T13:21:14.797562",
     "exception": false,
     "start_time": "2021-07-13T13:21:13.466160",
     "status": "completed"
    },
    "tags": []
   },
   "outputs": [
    {
     "name": "stdout",
     "output_type": "stream",
     "text": [
      "MAE from Approach 1 (Drop categorical variables):\n",
      "17837.82570776256\n"
     ]
    }
   ],
   "source": [
    "print(\"MAE from Approach 1 (Drop categorical variables):\")\n",
    "print(score_dataset(drop_X_train, drop_X_valid, y_train, y_valid))"
   ]
  },
  {
   "cell_type": "markdown",
   "id": "55a99342",
   "metadata": {
    "papermill": {
     "duration": 0.050858,
     "end_time": "2021-07-13T13:21:14.901361",
     "exception": false,
     "start_time": "2021-07-13T13:21:14.850503",
     "status": "completed"
    },
    "tags": []
   },
   "source": [
    "Before jumping into ordinal encoding, we'll investigate the dataset.  Specifically, we'll look at the `'Condition2'` column.  The code cell below prints the unique entries in both the training and validation sets."
   ]
  },
  {
   "cell_type": "code",
   "execution_count": 10,
   "id": "5cd62a04",
   "metadata": {
    "execution": {
     "iopub.execute_input": "2021-07-13T13:21:15.008885Z",
     "iopub.status.busy": "2021-07-13T13:21:15.008176Z",
     "iopub.status.idle": "2021-07-13T13:21:15.011030Z",
     "shell.execute_reply": "2021-07-13T13:21:15.011643Z",
     "shell.execute_reply.started": "2021-07-13T13:09:57.668417Z"
    },
    "papermill": {
     "duration": 0.060994,
     "end_time": "2021-07-13T13:21:15.011829",
     "exception": false,
     "start_time": "2021-07-13T13:21:14.950835",
     "status": "completed"
    },
    "tags": []
   },
   "outputs": [
    {
     "name": "stdout",
     "output_type": "stream",
     "text": [
      "Unique values in 'Condition2' column in training data: ['Norm' 'PosA' 'Feedr' 'PosN' 'Artery' 'RRAe']\n",
      "\n",
      "Unique values in 'Condition2' column in validation data: ['Norm' 'RRAn' 'RRNn' 'Artery' 'Feedr' 'PosN']\n"
     ]
    }
   ],
   "source": [
    "print(\"Unique values in 'Condition2' column in training data:\", X_train['Condition2'].unique())\n",
    "print(\"\\nUnique values in 'Condition2' column in validation data:\", X_valid['Condition2'].unique())"
   ]
  },
  {
   "cell_type": "markdown",
   "id": "82783e88",
   "metadata": {
    "papermill": {
     "duration": 0.050331,
     "end_time": "2021-07-13T13:21:15.112951",
     "exception": false,
     "start_time": "2021-07-13T13:21:15.062620",
     "status": "completed"
    },
    "tags": []
   },
   "source": [
    "# Step 2: Ordinal encoding\n",
    "\n",
    "### Part A\n",
    "\n",
    "If you now write code to: \n",
    "- fit an ordinal encoder to the training data, and then \n",
    "- use it to transform both the training and validation data, \n",
    "\n",
    "you'll get an error.  Can you see why this is the case?  (_You'll need  to use the above output to answer this question._)"
   ]
  },
  {
   "cell_type": "code",
   "execution_count": 11,
   "id": "0d152459",
   "metadata": {
    "execution": {
     "iopub.execute_input": "2021-07-13T13:21:15.216843Z",
     "iopub.status.busy": "2021-07-13T13:21:15.216169Z",
     "iopub.status.idle": "2021-07-13T13:21:15.221910Z",
     "shell.execute_reply": "2021-07-13T13:21:15.222459Z",
     "shell.execute_reply.started": "2021-07-13T13:09:57.677464Z"
    },
    "papermill": {
     "duration": 0.059564,
     "end_time": "2021-07-13T13:21:15.222652",
     "exception": false,
     "start_time": "2021-07-13T13:21:15.163088",
     "status": "completed"
    },
    "tags": []
   },
   "outputs": [
    {
     "data": {
      "text/plain": [
       "['MSZoning',\n",
       " 'Street',\n",
       " 'LotShape',\n",
       " 'LandContour',\n",
       " 'Utilities',\n",
       " 'LotConfig',\n",
       " 'LandSlope',\n",
       " 'Neighborhood',\n",
       " 'Condition1',\n",
       " 'Condition2',\n",
       " 'BldgType',\n",
       " 'HouseStyle',\n",
       " 'RoofStyle',\n",
       " 'RoofMatl',\n",
       " 'Exterior1st',\n",
       " 'Exterior2nd',\n",
       " 'ExterQual',\n",
       " 'ExterCond',\n",
       " 'Foundation',\n",
       " 'Heating',\n",
       " 'HeatingQC',\n",
       " 'CentralAir',\n",
       " 'KitchenQual',\n",
       " 'Functional',\n",
       " 'PavedDrive',\n",
       " 'SaleType',\n",
       " 'SaleCondition']"
      ]
     },
     "execution_count": 11,
     "metadata": {},
     "output_type": "execute_result"
    }
   ],
   "source": [
    "object_cols"
   ]
  },
  {
   "cell_type": "code",
   "execution_count": 12,
   "id": "2ae26925",
   "metadata": {
    "execution": {
     "iopub.execute_input": "2021-07-13T13:21:15.328591Z",
     "iopub.status.busy": "2021-07-13T13:21:15.327557Z",
     "iopub.status.idle": "2021-07-13T13:21:15.335624Z",
     "shell.execute_reply": "2021-07-13T13:21:15.336172Z",
     "shell.execute_reply.started": "2021-07-13T13:09:57.701280Z"
    },
    "papermill": {
     "duration": 0.06269,
     "end_time": "2021-07-13T13:21:15.336383",
     "exception": false,
     "start_time": "2021-07-13T13:21:15.273693",
     "status": "completed"
    },
    "tags": []
   },
   "outputs": [
    {
     "data": {
      "application/javascript": [
       "parent.postMessage({\"jupyterEvent\": \"custom.exercise_interaction\", \"data\": {\"outcomeType\": 1, \"valueTowardsCompletion\": 0.5, \"interactionType\": 1, \"questionType\": 4, \"questionId\": \"2.1_LabelA\", \"learnToolsVersion\": \"0.3.4\", \"failureMessage\": \"\", \"exceptionClass\": \"\", \"trace\": \"\"}}, \"*\")"
      ],
      "text/plain": [
       "<IPython.core.display.Javascript object>"
      ]
     },
     "metadata": {},
     "output_type": "display_data"
    },
    {
     "data": {
      "text/markdown": [
       "<span style=\"color:#33cc33\">Correct:</span> \n",
       "\n",
       "Fitting an ordinal encoder to a column in the training data creates a corresponding integer-valued label for each unique value **that appears in the training data**. In the case that the validation data contains values that don't also appear in the training data, the encoder will throw an error, because these values won't have an integer assigned to them.  Notice that the `'Condition2'` column in the validation data contains the values `'RRAn'` and `'RRNn'`, but these don't appear in the training data -- thus, if we try to use an ordinal encoder with scikit-learn, the code will throw an error."
      ],
      "text/plain": [
       "Correct: \n",
       "\n",
       "Fitting an ordinal encoder to a column in the training data creates a corresponding integer-valued label for each unique value **that appears in the training data**. In the case that the validation data contains values that don't also appear in the training data, the encoder will throw an error, because these values won't have an integer assigned to them.  Notice that the `'Condition2'` column in the validation data contains the values `'RRAn'` and `'RRNn'`, but these don't appear in the training data -- thus, if we try to use an ordinal encoder with scikit-learn, the code will throw an error."
      ]
     },
     "metadata": {},
     "output_type": "display_data"
    }
   ],
   "source": [
    "# Check your answer (Run this code cell to receive credit!)\n",
    "\n",
    "step_2.a.check()"
   ]
  },
  {
   "cell_type": "code",
   "execution_count": 13,
   "id": "2e288d16",
   "metadata": {
    "execution": {
     "iopub.execute_input": "2021-07-13T13:21:15.446789Z",
     "iopub.status.busy": "2021-07-13T13:21:15.445730Z",
     "iopub.status.idle": "2021-07-13T13:21:15.453699Z",
     "shell.execute_reply": "2021-07-13T13:21:15.454270Z",
     "shell.execute_reply.started": "2021-07-13T13:09:57.717454Z"
    },
    "papermill": {
     "duration": 0.066284,
     "end_time": "2021-07-13T13:21:15.454475",
     "exception": false,
     "start_time": "2021-07-13T13:21:15.388191",
     "status": "completed"
    },
    "tags": []
   },
   "outputs": [
    {
     "data": {
      "application/javascript": [
       "parent.postMessage({\"jupyterEvent\": \"custom.exercise_interaction\", \"data\": {\"interactionType\": 2, \"questionType\": 4, \"questionId\": \"2.1_LabelA\", \"learnToolsVersion\": \"0.3.4\", \"valueTowardsCompletion\": 0.0, \"failureMessage\": \"\", \"exceptionClass\": \"\", \"trace\": \"\", \"outcomeType\": 4}}, \"*\")"
      ],
      "text/plain": [
       "<IPython.core.display.Javascript object>"
      ]
     },
     "metadata": {},
     "output_type": "display_data"
    },
    {
     "data": {
      "text/markdown": [
       "<span style=\"color:#3366cc\">Hint:</span> Are there any values that appear in the validation data but not in the training data?"
      ],
      "text/plain": [
       "Hint: Are there any values that appear in the validation data but not in the training data?"
      ]
     },
     "metadata": {},
     "output_type": "display_data"
    }
   ],
   "source": [
    "step_2.a.hint()"
   ]
  },
  {
   "cell_type": "markdown",
   "id": "48a09a50",
   "metadata": {
    "papermill": {
     "duration": 0.052065,
     "end_time": "2021-07-13T13:21:15.559028",
     "exception": false,
     "start_time": "2021-07-13T13:21:15.506963",
     "status": "completed"
    },
    "tags": []
   },
   "source": [
    "This is a common problem that you'll encounter with real-world data, and there are many approaches to fixing this issue.  For instance, you can write a custom ordinal encoder to deal with new categories.  The simplest approach, however, is to drop the problematic categorical columns.  \n",
    "\n",
    "Run the code cell below to save the problematic columns to a Python list `bad_label_cols`.  Likewise, columns that can be safely ordinal encoded are stored in `good_label_cols`."
   ]
  },
  {
   "cell_type": "code",
   "execution_count": 14,
   "id": "0b05e492",
   "metadata": {
    "execution": {
     "iopub.execute_input": "2021-07-13T13:21:15.668688Z",
     "iopub.status.busy": "2021-07-13T13:21:15.667609Z",
     "iopub.status.idle": "2021-07-13T13:21:15.686354Z",
     "shell.execute_reply": "2021-07-13T13:21:15.685778Z",
     "shell.execute_reply.started": "2021-07-13T13:09:57.731146Z"
    },
    "papermill": {
     "duration": 0.074963,
     "end_time": "2021-07-13T13:21:15.686520",
     "exception": false,
     "start_time": "2021-07-13T13:21:15.611557",
     "status": "completed"
    },
    "tags": []
   },
   "outputs": [
    {
     "name": "stdout",
     "output_type": "stream",
     "text": [
      "Categorical columns that will be ordinal encoded: ['MSZoning', 'Street', 'LotShape', 'LandContour', 'Utilities', 'LotConfig', 'LandSlope', 'Neighborhood', 'Condition1', 'BldgType', 'HouseStyle', 'RoofStyle', 'Exterior1st', 'Exterior2nd', 'ExterQual', 'ExterCond', 'Foundation', 'Heating', 'HeatingQC', 'CentralAir', 'KitchenQual', 'PavedDrive', 'SaleType', 'SaleCondition']\n",
      "\n",
      "Categorical columns that will be dropped from the dataset: ['Functional', 'Condition2', 'RoofMatl']\n"
     ]
    }
   ],
   "source": [
    "# All categorical columns\n",
    "object_cols = [col for col in X_train.columns if X_train[col].dtype == \"object\"]\n",
    "\n",
    "# Columns that can be safely ordinal encoded\n",
    "good_label_cols = [col for col in object_cols if \n",
    "                   set(X_valid[col]).issubset(set(X_train[col]))]\n",
    "        \n",
    "# Problematic columns that will be dropped from the dataset\n",
    "bad_label_cols = list(set(object_cols)-set(good_label_cols))\n",
    "        \n",
    "print('Categorical columns that will be ordinal encoded:', good_label_cols)\n",
    "print('\\nCategorical columns that will be dropped from the dataset:', bad_label_cols)"
   ]
  },
  {
   "cell_type": "markdown",
   "id": "5b45e6f1",
   "metadata": {
    "papermill": {
     "duration": 0.053423,
     "end_time": "2021-07-13T13:21:15.793931",
     "exception": false,
     "start_time": "2021-07-13T13:21:15.740508",
     "status": "completed"
    },
    "tags": []
   },
   "source": [
    "### Part B\n",
    "\n",
    "Use the next code cell to ordinal encode the data in `X_train` and `X_valid`.  Set the preprocessed DataFrames to `label_X_train` and `label_X_valid`, respectively.  \n",
    "- We have provided code below to drop the categorical columns in `bad_label_cols` from the dataset. \n",
    "- You should ordinal encode the categorical columns in `good_label_cols`.  "
   ]
  },
  {
   "cell_type": "code",
   "execution_count": 15,
   "id": "c8188475",
   "metadata": {
    "execution": {
     "iopub.execute_input": "2021-07-13T13:21:15.925362Z",
     "iopub.status.busy": "2021-07-13T13:21:15.913461Z",
     "iopub.status.idle": "2021-07-13T13:21:15.978041Z",
     "shell.execute_reply": "2021-07-13T13:21:15.978523Z",
     "shell.execute_reply.started": "2021-07-13T13:09:57.756547Z"
    },
    "papermill": {
     "duration": 0.13008,
     "end_time": "2021-07-13T13:21:15.978713",
     "exception": false,
     "start_time": "2021-07-13T13:21:15.848633",
     "status": "completed"
    },
    "tags": []
   },
   "outputs": [
    {
     "data": {
      "application/javascript": [
       "parent.postMessage({\"jupyterEvent\": \"custom.exercise_interaction\", \"data\": {\"outcomeType\": 1, \"valueTowardsCompletion\": 0.5, \"interactionType\": 1, \"questionType\": 2, \"questionId\": \"2.2_LabelB\", \"learnToolsVersion\": \"0.3.4\", \"failureMessage\": \"\", \"exceptionClass\": \"\", \"trace\": \"\"}}, \"*\")"
      ],
      "text/plain": [
       "<IPython.core.display.Javascript object>"
      ]
     },
     "metadata": {},
     "output_type": "display_data"
    },
    {
     "data": {
      "text/markdown": [
       "<span style=\"color:#33cc33\">Correct</span>"
      ],
      "text/plain": [
       "Correct"
      ]
     },
     "metadata": {},
     "output_type": "display_data"
    }
   ],
   "source": [
    "from sklearn.preprocessing import OrdinalEncoder\n",
    "\n",
    "# Drop categorical columns that will not be encoded\n",
    "label_X_train = X_train.drop(bad_label_cols, axis=1)\n",
    "label_X_valid = X_valid.drop(bad_label_cols, axis=1)\n",
    "\n",
    "# Apply ordinal encoder \n",
    "OrdEnc = OrdinalEncoder()\n",
    "label_X_train[good_label_cols] = OrdEnc.fit_transform(label_X_train[good_label_cols])\n",
    "label_X_valid[good_label_cols] = OrdEnc.transform(label_X_valid[good_label_cols])\n",
    "# Check your answer\n",
    "step_2.b.check()"
   ]
  },
  {
   "cell_type": "code",
   "execution_count": 16,
   "id": "115fb2ba",
   "metadata": {
    "execution": {
     "iopub.execute_input": "2021-07-13T13:21:16.092479Z",
     "iopub.status.busy": "2021-07-13T13:21:16.091404Z",
     "iopub.status.idle": "2021-07-13T13:21:16.094832Z",
     "shell.execute_reply": "2021-07-13T13:21:16.094169Z",
     "shell.execute_reply.started": "2021-07-13T13:09:57.833921Z"
    },
    "papermill": {
     "duration": 0.06258,
     "end_time": "2021-07-13T13:21:16.095036",
     "exception": false,
     "start_time": "2021-07-13T13:21:16.032456",
     "status": "completed"
    },
    "tags": []
   },
   "outputs": [],
   "source": [
    "# Lines below will give you a hint or solution code\n",
    "#step_2.b.hint()\n",
    "#step_2.b.solution()"
   ]
  },
  {
   "cell_type": "markdown",
   "id": "c491a88c",
   "metadata": {
    "papermill": {
     "duration": 0.053399,
     "end_time": "2021-07-13T13:21:16.202394",
     "exception": false,
     "start_time": "2021-07-13T13:21:16.148995",
     "status": "completed"
    },
    "tags": []
   },
   "source": [
    "Run the next code cell to get the MAE for this approach."
   ]
  },
  {
   "cell_type": "code",
   "execution_count": 17,
   "id": "73a77a19",
   "metadata": {
    "execution": {
     "iopub.execute_input": "2021-07-13T13:21:16.319036Z",
     "iopub.status.busy": "2021-07-13T13:21:16.318266Z",
     "iopub.status.idle": "2021-07-13T13:21:17.948343Z",
     "shell.execute_reply": "2021-07-13T13:21:17.948853Z",
     "shell.execute_reply.started": "2021-07-13T13:09:57.839752Z"
    },
    "papermill": {
     "duration": 1.692953,
     "end_time": "2021-07-13T13:21:17.949093",
     "exception": false,
     "start_time": "2021-07-13T13:21:16.256140",
     "status": "completed"
    },
    "tags": []
   },
   "outputs": [
    {
     "name": "stdout",
     "output_type": "stream",
     "text": [
      "MAE from Approach 2 (Ordinal Encoding):\n",
      "17098.01649543379\n"
     ]
    }
   ],
   "source": [
    "print(\"MAE from Approach 2 (Ordinal Encoding):\") \n",
    "print(score_dataset(label_X_train, label_X_valid, y_train, y_valid))"
   ]
  },
  {
   "cell_type": "markdown",
   "id": "3628e961",
   "metadata": {
    "papermill": {
     "duration": 0.054889,
     "end_time": "2021-07-13T13:21:18.058750",
     "exception": false,
     "start_time": "2021-07-13T13:21:18.003861",
     "status": "completed"
    },
    "tags": []
   },
   "source": [
    "So far, you've tried two different approaches to dealing with categorical variables.  And, you've seen that encoding categorical data yields better results than removing columns from the dataset.\n",
    "\n",
    "Soon, you'll try one-hot encoding.  Before then, there's one additional topic we need to cover.  Begin by running the next code cell without changes.  "
   ]
  },
  {
   "cell_type": "code",
   "execution_count": 18,
   "id": "37d45e55",
   "metadata": {
    "execution": {
     "iopub.execute_input": "2021-07-13T13:21:18.173705Z",
     "iopub.status.busy": "2021-07-13T13:21:18.173063Z",
     "iopub.status.idle": "2021-07-13T13:21:18.193538Z",
     "shell.execute_reply": "2021-07-13T13:21:18.194117Z",
     "shell.execute_reply.started": "2021-07-13T13:09:59.459066Z"
    },
    "papermill": {
     "duration": 0.079368,
     "end_time": "2021-07-13T13:21:18.194325",
     "exception": false,
     "start_time": "2021-07-13T13:21:18.114957",
     "status": "completed"
    },
    "tags": []
   },
   "outputs": [
    {
     "data": {
      "text/plain": [
       "[('Street', 2),\n",
       " ('Utilities', 2),\n",
       " ('CentralAir', 2),\n",
       " ('LandSlope', 3),\n",
       " ('PavedDrive', 3),\n",
       " ('LotShape', 4),\n",
       " ('LandContour', 4),\n",
       " ('ExterQual', 4),\n",
       " ('KitchenQual', 4),\n",
       " ('MSZoning', 5),\n",
       " ('LotConfig', 5),\n",
       " ('BldgType', 5),\n",
       " ('ExterCond', 5),\n",
       " ('HeatingQC', 5),\n",
       " ('Condition2', 6),\n",
       " ('RoofStyle', 6),\n",
       " ('Foundation', 6),\n",
       " ('Heating', 6),\n",
       " ('Functional', 6),\n",
       " ('SaleCondition', 6),\n",
       " ('RoofMatl', 7),\n",
       " ('HouseStyle', 8),\n",
       " ('Condition1', 9),\n",
       " ('SaleType', 9),\n",
       " ('Exterior1st', 15),\n",
       " ('Exterior2nd', 16),\n",
       " ('Neighborhood', 25)]"
      ]
     },
     "execution_count": 18,
     "metadata": {},
     "output_type": "execute_result"
    }
   ],
   "source": [
    "# Get number of unique entries in each column with categorical data\n",
    "object_nunique = list(map(lambda col: X_train[col].nunique(), object_cols))\n",
    "d = dict(zip(object_cols, object_nunique))\n",
    "\n",
    "# Print number of unique entries by column, in ascending order\n",
    "sorted(d.items(), key=lambda x: x[1])"
   ]
  },
  {
   "cell_type": "markdown",
   "id": "97965bf2",
   "metadata": {
    "papermill": {
     "duration": 0.055213,
     "end_time": "2021-07-13T13:21:18.304962",
     "exception": false,
     "start_time": "2021-07-13T13:21:18.249749",
     "status": "completed"
    },
    "tags": []
   },
   "source": [
    "# Step 3: Investigating cardinality\n",
    "\n",
    "### Part A\n",
    "\n",
    "The output above shows, for each column with categorical data, the number of unique values in the column.  For instance, the `'Street'` column in the training data has two unique values: `'Grvl'` and `'Pave'`, corresponding to a gravel road and a paved road, respectively.\n",
    "\n",
    "We refer to the number of unique entries of a categorical variable as the **cardinality** of that categorical variable.  For instance, the `'Street'` variable has cardinality 2.\n",
    "\n",
    "Use the output above to answer the questions below."
   ]
  },
  {
   "cell_type": "code",
   "execution_count": 19,
   "id": "da235d68",
   "metadata": {
    "execution": {
     "iopub.execute_input": "2021-07-13T13:21:18.421414Z",
     "iopub.status.busy": "2021-07-13T13:21:18.420634Z",
     "iopub.status.idle": "2021-07-13T13:21:18.427774Z",
     "shell.execute_reply": "2021-07-13T13:21:18.427126Z",
     "shell.execute_reply.started": "2021-07-13T13:09:59.486231Z"
    },
    "papermill": {
     "duration": 0.066454,
     "end_time": "2021-07-13T13:21:18.428001",
     "exception": false,
     "start_time": "2021-07-13T13:21:18.361547",
     "status": "completed"
    },
    "tags": []
   },
   "outputs": [
    {
     "data": {
      "text/plain": [
       "2"
      ]
     },
     "execution_count": 19,
     "metadata": {},
     "output_type": "execute_result"
    }
   ],
   "source": [
    "d['Street']"
   ]
  },
  {
   "cell_type": "code",
   "execution_count": 20,
   "id": "2e7900dd",
   "metadata": {
    "execution": {
     "iopub.execute_input": "2021-07-13T13:21:18.543435Z",
     "iopub.status.busy": "2021-07-13T13:21:18.542681Z",
     "iopub.status.idle": "2021-07-13T13:21:18.548479Z",
     "shell.execute_reply": "2021-07-13T13:21:18.548982Z",
     "shell.execute_reply.started": "2021-07-13T13:09:59.495528Z"
    },
    "papermill": {
     "duration": 0.06489,
     "end_time": "2021-07-13T13:21:18.549185",
     "exception": false,
     "start_time": "2021-07-13T13:21:18.484295",
     "status": "completed"
    },
    "tags": []
   },
   "outputs": [
    {
     "data": {
      "text/plain": [
       "3"
      ]
     },
     "execution_count": 20,
     "metadata": {},
     "output_type": "execute_result"
    }
   ],
   "source": [
    "high_cardinality_numcols = [col for col in good_label_cols if d[col] > 10]\n",
    "len([d[i] for i in high_cardinality_numcols])"
   ]
  },
  {
   "cell_type": "code",
   "execution_count": 21,
   "id": "bd67a4a8",
   "metadata": {
    "execution": {
     "iopub.execute_input": "2021-07-13T13:21:18.669322Z",
     "iopub.status.busy": "2021-07-13T13:21:18.668608Z",
     "iopub.status.idle": "2021-07-13T13:21:18.674161Z",
     "shell.execute_reply": "2021-07-13T13:21:18.673526Z",
     "shell.execute_reply.started": "2021-07-13T13:09:59.509975Z"
    },
    "papermill": {
     "duration": 0.068493,
     "end_time": "2021-07-13T13:21:18.674309",
     "exception": false,
     "start_time": "2021-07-13T13:21:18.605816",
     "status": "completed"
    },
    "tags": []
   },
   "outputs": [
    {
     "data": {
      "application/javascript": [
       "parent.postMessage({\"jupyterEvent\": \"custom.exercise_interaction\", \"data\": {\"outcomeType\": 1, \"valueTowardsCompletion\": 0.5, \"interactionType\": 1, \"questionType\": 1, \"questionId\": \"3.1_CardinalityA\", \"learnToolsVersion\": \"0.3.4\", \"failureMessage\": \"\", \"exceptionClass\": \"\", \"trace\": \"\"}}, \"*\")"
      ],
      "text/plain": [
       "<IPython.core.display.Javascript object>"
      ]
     },
     "metadata": {},
     "output_type": "display_data"
    },
    {
     "data": {
      "text/markdown": [
       "<span style=\"color:#33cc33\">Correct</span>"
      ],
      "text/plain": [
       "Correct"
      ]
     },
     "metadata": {},
     "output_type": "display_data"
    }
   ],
   "source": [
    "# Fill in the line below: How many categorical variables in the training data\n",
    "# have cardinality greater than 10?\n",
    "high_cardinality_numcols = len([col for col in good_label_cols if d[col] > 10])\n",
    "\n",
    "# Fill in the line below: How many columns are needed to one-hot encode the \n",
    "# 'Neighborhood' variable in the training data?\n",
    "num_cols_neighborhood = d['Neighborhood']\n",
    "\n",
    "# Check your answers\n",
    "step_3.a.check()"
   ]
  },
  {
   "cell_type": "code",
   "execution_count": 22,
   "id": "15dc9183",
   "metadata": {
    "execution": {
     "iopub.execute_input": "2021-07-13T13:21:18.792989Z",
     "iopub.status.busy": "2021-07-13T13:21:18.792250Z",
     "iopub.status.idle": "2021-07-13T13:21:18.795658Z",
     "shell.execute_reply": "2021-07-13T13:21:18.796234Z",
     "shell.execute_reply.started": "2021-07-13T13:09:59.526102Z"
    },
    "papermill": {
     "duration": 0.065676,
     "end_time": "2021-07-13T13:21:18.796445",
     "exception": false,
     "start_time": "2021-07-13T13:21:18.730769",
     "status": "completed"
    },
    "tags": []
   },
   "outputs": [],
   "source": [
    "# Lines below will give you a hint or solution code\n",
    "#step_3.a.hint()\n",
    "#step_3.a.solution()"
   ]
  },
  {
   "cell_type": "markdown",
   "id": "46a4f43b",
   "metadata": {
    "papermill": {
     "duration": 0.057174,
     "end_time": "2021-07-13T13:21:18.911107",
     "exception": false,
     "start_time": "2021-07-13T13:21:18.853933",
     "status": "completed"
    },
    "tags": []
   },
   "source": [
    "### Part B\n",
    "\n",
    "For large datasets with many rows, one-hot encoding can greatly expand the size of the dataset.  For this reason, we typically will only one-hot encode columns with relatively low cardinality.  Then, high cardinality columns can either be dropped from the dataset, or we can use ordinal encoding.\n",
    "\n",
    "As an example, consider a dataset with 10,000 rows, and containing one categorical column with 100 unique entries.  \n",
    "- If this column is replaced with the corresponding one-hot encoding, how many entries are added to the dataset?  \n",
    "- If we instead replace the column with the ordinal encoding, how many entries are added?  \n",
    "\n",
    "Use your answers to fill in the lines below."
   ]
  },
  {
   "cell_type": "code",
   "execution_count": 23,
   "id": "563f99a0",
   "metadata": {
    "execution": {
     "iopub.execute_input": "2021-07-13T13:21:19.030322Z",
     "iopub.status.busy": "2021-07-13T13:21:19.029562Z",
     "iopub.status.idle": "2021-07-13T13:21:19.036948Z",
     "shell.execute_reply": "2021-07-13T13:21:19.037490Z",
     "shell.execute_reply.started": "2021-07-13T13:09:59.542583Z"
    },
    "papermill": {
     "duration": 0.069392,
     "end_time": "2021-07-13T13:21:19.037675",
     "exception": false,
     "start_time": "2021-07-13T13:21:18.968283",
     "status": "completed"
    },
    "tags": []
   },
   "outputs": [
    {
     "data": {
      "application/javascript": [
       "parent.postMessage({\"jupyterEvent\": \"custom.exercise_interaction\", \"data\": {\"outcomeType\": 1, \"valueTowardsCompletion\": 0.5, \"interactionType\": 1, \"questionType\": 1, \"questionId\": \"3.2_CardinalityB\", \"learnToolsVersion\": \"0.3.4\", \"failureMessage\": \"\", \"exceptionClass\": \"\", \"trace\": \"\"}}, \"*\")"
      ],
      "text/plain": [
       "<IPython.core.display.Javascript object>"
      ]
     },
     "metadata": {},
     "output_type": "display_data"
    },
    {
     "data": {
      "text/markdown": [
       "<span style=\"color:#33cc33\">Correct</span>"
      ],
      "text/plain": [
       "Correct"
      ]
     },
     "metadata": {},
     "output_type": "display_data"
    }
   ],
   "source": [
    "# Fill in the line below: How many entries are added to the dataset by \n",
    "# replacing the column with a one-hot encoding?\n",
    "OH_entries_added = 10000*100 - 10**4\n",
    "\n",
    "# Fill in the line below: How many entries are added to the dataset by\n",
    "# replacing the column with an ordinal encoding?\n",
    "label_entries_added = 0\n",
    "\n",
    "# Check your answers\n",
    "step_3.b.check()"
   ]
  },
  {
   "cell_type": "code",
   "execution_count": 24,
   "id": "ad0a5fec",
   "metadata": {
    "execution": {
     "iopub.execute_input": "2021-07-13T13:21:19.159069Z",
     "iopub.status.busy": "2021-07-13T13:21:19.158371Z",
     "iopub.status.idle": "2021-07-13T13:21:19.170026Z",
     "shell.execute_reply": "2021-07-13T13:21:19.170536Z",
     "shell.execute_reply.started": "2021-07-13T13:09:59.558399Z"
    },
    "papermill": {
     "duration": 0.074977,
     "end_time": "2021-07-13T13:21:19.170739",
     "exception": false,
     "start_time": "2021-07-13T13:21:19.095762",
     "status": "completed"
    },
    "tags": []
   },
   "outputs": [
    {
     "data": {
      "application/javascript": [
       "parent.postMessage({\"jupyterEvent\": \"custom.exercise_interaction\", \"data\": {\"interactionType\": 2, \"questionType\": 1, \"questionId\": \"3.2_CardinalityB\", \"learnToolsVersion\": \"0.3.4\", \"valueTowardsCompletion\": 0.0, \"failureMessage\": \"\", \"exceptionClass\": \"\", \"trace\": \"\", \"outcomeType\": 4}}, \"*\")"
      ],
      "text/plain": [
       "<IPython.core.display.Javascript object>"
      ]
     },
     "metadata": {},
     "output_type": "display_data"
    },
    {
     "data": {
      "text/markdown": [
       "<span style=\"color:#3366cc\">Hint:</span> To calculate how many entries are added to the dataset through the one-hot encoding, begin by calculating how many entries are needed to encode the categorical variable (by multiplying the number of rows by the number of columns in the one-hot encoding). Then, to obtain how many entries are **added** to the dataset, subtract the number of entries in the original column."
      ],
      "text/plain": [
       "Hint: To calculate how many entries are added to the dataset through the one-hot encoding, begin by calculating how many entries are needed to encode the categorical variable (by multiplying the number of rows by the number of columns in the one-hot encoding). Then, to obtain how many entries are **added** to the dataset, subtract the number of entries in the original column."
      ]
     },
     "metadata": {},
     "output_type": "display_data"
    },
    {
     "data": {
      "application/javascript": [
       "parent.postMessage({\"jupyterEvent\": \"custom.exercise_interaction\", \"data\": {\"interactionType\": 3, \"questionType\": 1, \"questionId\": \"3.2_CardinalityB\", \"learnToolsVersion\": \"0.3.4\", \"valueTowardsCompletion\": 0.0, \"failureMessage\": \"\", \"exceptionClass\": \"\", \"trace\": \"\", \"outcomeType\": 4}}, \"*\")"
      ],
      "text/plain": [
       "<IPython.core.display.Javascript object>"
      ]
     },
     "metadata": {},
     "output_type": "display_data"
    },
    {
     "data": {
      "text/markdown": [
       "<span style=\"color:#33cc99\">Solution:</span> \n",
       "```python\n",
       "# How many entries are added to the dataset by\n",
       "# replacing the column with a one-hot encoding?\n",
       "OH_entries_added = 1e4*100 - 1e4\n",
       "\n",
       "# How many entries are added to the dataset by\n",
       "# replacing the column with an ordinal encoding?\n",
       "label_entries_added = 0\n",
       "\n",
       "```"
      ],
      "text/plain": [
       "Solution: \n",
       "```python\n",
       "# How many entries are added to the dataset by\n",
       "# replacing the column with a one-hot encoding?\n",
       "OH_entries_added = 1e4*100 - 1e4\n",
       "\n",
       "# How many entries are added to the dataset by\n",
       "# replacing the column with an ordinal encoding?\n",
       "label_entries_added = 0\n",
       "\n",
       "```"
      ]
     },
     "metadata": {},
     "output_type": "display_data"
    }
   ],
   "source": [
    "# Lines below will give you a hint or solution code\n",
    "step_3.b.hint()\n",
    "step_3.b.solution()"
   ]
  },
  {
   "cell_type": "markdown",
   "id": "57b0315f",
   "metadata": {
    "papermill": {
     "duration": 0.062194,
     "end_time": "2021-07-13T13:21:19.293844",
     "exception": false,
     "start_time": "2021-07-13T13:21:19.231650",
     "status": "completed"
    },
    "tags": []
   },
   "source": [
    "Next, you'll experiment with one-hot encoding.  But, instead of encoding all of the categorical variables in the dataset, you'll only create a one-hot encoding for columns with cardinality less than 10.\n",
    "\n",
    "Run the code cell below without changes to set `low_cardinality_cols` to a Python list containing the columns that will be one-hot encoded.  Likewise, `high_cardinality_cols` contains a list of categorical columns that will be dropped from the dataset."
   ]
  },
  {
   "cell_type": "code",
   "execution_count": 25,
   "id": "da67bb82",
   "metadata": {
    "execution": {
     "iopub.execute_input": "2021-07-13T13:21:19.418232Z",
     "iopub.status.busy": "2021-07-13T13:21:19.417171Z",
     "iopub.status.idle": "2021-07-13T13:21:19.437604Z",
     "shell.execute_reply": "2021-07-13T13:21:19.436998Z",
     "shell.execute_reply.started": "2021-07-13T13:09:59.579032Z"
    },
    "papermill": {
     "duration": 0.083758,
     "end_time": "2021-07-13T13:21:19.437756",
     "exception": false,
     "start_time": "2021-07-13T13:21:19.353998",
     "status": "completed"
    },
    "tags": []
   },
   "outputs": [
    {
     "name": "stdout",
     "output_type": "stream",
     "text": [
      "Categorical columns that will be one-hot encoded: ['MSZoning', 'Street', 'LotShape', 'LandContour', 'Utilities', 'LotConfig', 'LandSlope', 'Condition1', 'Condition2', 'BldgType', 'HouseStyle', 'RoofStyle', 'RoofMatl', 'ExterQual', 'ExterCond', 'Foundation', 'Heating', 'HeatingQC', 'CentralAir', 'KitchenQual', 'Functional', 'PavedDrive', 'SaleType', 'SaleCondition']\n",
      "\n",
      "Categorical columns that will be dropped from the dataset: ['Exterior1st', 'Neighborhood', 'Exterior2nd']\n"
     ]
    }
   ],
   "source": [
    "# Columns that will be one-hot encoded\n",
    "low_cardinality_cols = [col for col in object_cols if X_train[col].nunique() < 10]\n",
    "\n",
    "# Columns that will be dropped from the dataset\n",
    "high_cardinality_cols = list(set(object_cols)-set(low_cardinality_cols))\n",
    "\n",
    "print('Categorical columns that will be one-hot encoded:', low_cardinality_cols)\n",
    "print('\\nCategorical columns that will be dropped from the dataset:', high_cardinality_cols)"
   ]
  },
  {
   "cell_type": "markdown",
   "id": "ff9312e4",
   "metadata": {
    "papermill": {
     "duration": 0.059609,
     "end_time": "2021-07-13T13:21:19.557636",
     "exception": false,
     "start_time": "2021-07-13T13:21:19.498027",
     "status": "completed"
    },
    "tags": []
   },
   "source": [
    "# Step 4: One-hot encoding\n",
    "\n",
    "Use the next code cell to one-hot encode the data in `X_train` and `X_valid`.  Set the preprocessed DataFrames to `OH_X_train` and `OH_X_valid`, respectively.  \n",
    "- The full list of categorical columns in the dataset can be found in the Python list `object_cols`.\n",
    "- You should only one-hot encode the categorical columns in `low_cardinality_cols`.  All other categorical columns should be dropped from the dataset. "
   ]
  },
  {
   "cell_type": "code",
   "execution_count": 26,
   "id": "6c08cdcf",
   "metadata": {
    "execution": {
     "iopub.execute_input": "2021-07-13T13:21:19.684359Z",
     "iopub.status.busy": "2021-07-13T13:21:19.683428Z",
     "iopub.status.idle": "2021-07-13T13:21:19.687157Z",
     "shell.execute_reply": "2021-07-13T13:21:19.687689Z",
     "shell.execute_reply.started": "2021-07-13T13:09:59.604895Z"
    },
    "papermill": {
     "duration": 0.070252,
     "end_time": "2021-07-13T13:21:19.687884",
     "exception": false,
     "start_time": "2021-07-13T13:21:19.617632",
     "status": "completed"
    },
    "tags": []
   },
   "outputs": [
    {
     "data": {
      "text/plain": [
       "'len(low_cardinality_cols)\\nlow_cardinality_cols = [col for col in low_cardinality_cols if col in good_label_cols]\\nlen(low_cardinality_cols)'"
      ]
     },
     "execution_count": 26,
     "metadata": {},
     "output_type": "execute_result"
    }
   ],
   "source": [
    "'''len(low_cardinality_cols)\n",
    "low_cardinality_cols = [col for col in low_cardinality_cols if col in good_label_cols]\n",
    "len(low_cardinality_cols)'''"
   ]
  },
  {
   "cell_type": "code",
   "execution_count": 27,
   "id": "e73a2971",
   "metadata": {
    "execution": {
     "iopub.execute_input": "2021-07-13T13:21:19.813734Z",
     "iopub.status.busy": "2021-07-13T13:21:19.813021Z",
     "iopub.status.idle": "2021-07-13T13:21:19.825213Z",
     "shell.execute_reply": "2021-07-13T13:21:19.824631Z",
     "shell.execute_reply.started": "2021-07-13T13:09:59.613193Z"
    },
    "papermill": {
     "duration": 0.076554,
     "end_time": "2021-07-13T13:21:19.825392",
     "exception": false,
     "start_time": "2021-07-13T13:21:19.748838",
     "status": "completed"
    },
    "tags": []
   },
   "outputs": [
    {
     "data": {
      "text/plain": [
       "True"
      ]
     },
     "execution_count": 27,
     "metadata": {},
     "output_type": "execute_result"
    }
   ],
   "source": [
    "x1 = X_train.drop([col for col in object_cols if col not in low_cardinality_cols],axis=1)\n",
    "[i for i in x1.columns if x1[i].dtype == 'object'] == low_cardinality_cols"
   ]
  },
  {
   "cell_type": "code",
   "execution_count": 28,
   "id": "8822ab2d",
   "metadata": {
    "execution": {
     "iopub.execute_input": "2021-07-13T13:21:19.971099Z",
     "iopub.status.busy": "2021-07-13T13:21:19.970305Z",
     "iopub.status.idle": "2021-07-13T13:21:20.001477Z",
     "shell.execute_reply": "2021-07-13T13:21:20.001968Z",
     "shell.execute_reply.started": "2021-07-13T13:09:59.632348Z"
    },
    "papermill": {
     "duration": 0.115316,
     "end_time": "2021-07-13T13:21:20.002177",
     "exception": false,
     "start_time": "2021-07-13T13:21:19.886861",
     "status": "completed"
    },
    "tags": []
   },
   "outputs": [
    {
     "data": {
      "application/javascript": [
       "parent.postMessage({\"jupyterEvent\": \"custom.exercise_interaction\", \"data\": {\"outcomeType\": 1, \"valueTowardsCompletion\": 0.5, \"interactionType\": 1, \"questionType\": 2, \"questionId\": \"4_OneHot\", \"learnToolsVersion\": \"0.3.4\", \"failureMessage\": \"\", \"exceptionClass\": \"\", \"trace\": \"\"}}, \"*\")"
      ],
      "text/plain": [
       "<IPython.core.display.Javascript object>"
      ]
     },
     "metadata": {},
     "output_type": "display_data"
    },
    {
     "data": {
      "text/markdown": [
       "<span style=\"color:#33cc33\">Correct</span>"
      ],
      "text/plain": [
       "Correct"
      ]
     },
     "metadata": {},
     "output_type": "display_data"
    }
   ],
   "source": [
    "from sklearn.preprocessing import OneHotEncoder\n",
    "\n",
    "'''onehotenc = OneHotEncoder()\n",
    "\n",
    "# Use as many lines of code as you need!\n",
    "X_train.drop([col for col in object_cols if col not in low_cardinality_cols],axis=1, inplace=True)\n",
    "X_valid.drop([col for col in object_cols if col not in low_cardinality_cols],axis=1, inplace=True)\n",
    "OH_X_train = pd.DataFrame(onehotenc.fit_transform(X_train[low_cardinality_cols]))\n",
    "OH_X_valid = pd.DataFrame(onehotenc.transform(X_valid[low_cardinality_cols]))\n",
    "\n",
    "#setting index\n",
    "OH_X_train.index = X_train.index\n",
    "OH_X_valid.index = X_valid.index\n",
    "\n",
    "#remove one hot encoded columns\n",
    "num_X_train = X_train.drop(low_cardinality_cols, axis=1)\n",
    "num_X_valid = X_valid.drop(low_cardinality_cols, axis=1)\n",
    "\n",
    "OH_X_train = pd.concat([num_X_train, OH_X_train], axis=1)\n",
    "OH_X_valid = pd.concat([num_X_valid, OH_X_valid], axis=1)'''\n",
    "\n",
    "\n",
    "# Apply one-hot encoder to each column with categorical data\n",
    "OH_encoder = OneHotEncoder(handle_unknown='ignore', sparse=False)\n",
    "OH_cols_train = pd.DataFrame(OH_encoder.fit_transform(X_train[low_cardinality_cols]))\n",
    "OH_cols_valid = pd.DataFrame(OH_encoder.transform(X_valid[low_cardinality_cols]))\n",
    "\n",
    "# One-hot encoding removed index; put it back\n",
    "OH_cols_train.index = X_train.index\n",
    "OH_cols_valid.index = X_valid.index\n",
    "\n",
    "# Remove categorical columns (will replace with one-hot encoding)\n",
    "num_X_train = X_train.drop(object_cols, axis=1)\n",
    "num_X_valid = X_valid.drop(object_cols, axis=1)\n",
    "\n",
    "# Add one-hot encoded columns to numerical features\n",
    "OH_X_train = pd.concat([num_X_train, OH_cols_train], axis=1)\n",
    "OH_X_valid = pd.concat([num_X_valid, OH_cols_valid], axis=1)\n",
    "\n",
    "# Check your answer\n",
    "step_4.check()"
   ]
  },
  {
   "cell_type": "code",
   "execution_count": 29,
   "id": "bdfc0e8c",
   "metadata": {
    "execution": {
     "iopub.execute_input": "2021-07-13T13:21:20.134403Z",
     "iopub.status.busy": "2021-07-13T13:21:20.133516Z",
     "iopub.status.idle": "2021-07-13T13:21:20.136917Z",
     "shell.execute_reply": "2021-07-13T13:21:20.137410Z",
     "shell.execute_reply.started": "2021-07-13T13:09:59.688424Z"
    },
    "papermill": {
     "duration": 0.073267,
     "end_time": "2021-07-13T13:21:20.137598",
     "exception": false,
     "start_time": "2021-07-13T13:21:20.064331",
     "status": "completed"
    },
    "tags": []
   },
   "outputs": [
    {
     "data": {
      "text/plain": [
       "array(['Norm', 'PosA', 'Feedr', 'PosN', 'Artery', 'RRAe'], dtype=object)"
      ]
     },
     "execution_count": 29,
     "metadata": {},
     "output_type": "execute_result"
    }
   ],
   "source": [
    "X_train['Condition2'].unique()"
   ]
  },
  {
   "cell_type": "code",
   "execution_count": 30,
   "id": "a33cac50",
   "metadata": {
    "execution": {
     "iopub.execute_input": "2021-07-13T13:21:20.267406Z",
     "iopub.status.busy": "2021-07-13T13:21:20.266349Z",
     "iopub.status.idle": "2021-07-13T13:21:20.273998Z",
     "shell.execute_reply": "2021-07-13T13:21:20.274602Z",
     "shell.execute_reply.started": "2021-07-13T13:09:59.698375Z"
    },
    "papermill": {
     "duration": 0.075292,
     "end_time": "2021-07-13T13:21:20.274799",
     "exception": false,
     "start_time": "2021-07-13T13:21:20.199507",
     "status": "completed"
    },
    "tags": []
   },
   "outputs": [
    {
     "data": {
      "text/plain": [
       "array(['Norm', 'RRAn', 'RRNn', 'Artery', 'Feedr', 'PosN'], dtype=object)"
      ]
     },
     "execution_count": 30,
     "metadata": {},
     "output_type": "execute_result"
    }
   ],
   "source": [
    "X_valid['Condition2'].unique()"
   ]
  },
  {
   "cell_type": "markdown",
   "id": "03ca5654",
   "metadata": {
    "papermill": {
     "duration": 0.074886,
     "end_time": "2021-07-13T13:21:20.431196",
     "exception": false,
     "start_time": "2021-07-13T13:21:20.356310",
     "status": "completed"
    },
    "tags": []
   },
   "source": [
    "It seems that non-matching unique values in validation and training set does not create a problem."
   ]
  },
  {
   "cell_type": "code",
   "execution_count": 31,
   "id": "2972d534",
   "metadata": {
    "execution": {
     "iopub.execute_input": "2021-07-13T13:21:20.563669Z",
     "iopub.status.busy": "2021-07-13T13:21:20.562960Z",
     "iopub.status.idle": "2021-07-13T13:21:20.570610Z",
     "shell.execute_reply": "2021-07-13T13:21:20.571286Z",
     "shell.execute_reply.started": "2021-07-13T13:09:59.715301Z"
    },
    "papermill": {
     "duration": 0.077158,
     "end_time": "2021-07-13T13:21:20.571488",
     "exception": false,
     "start_time": "2021-07-13T13:21:20.494330",
     "status": "completed"
    },
    "tags": []
   },
   "outputs": [
    {
     "data": {
      "application/javascript": [
       "parent.postMessage({\"jupyterEvent\": \"custom.exercise_interaction\", \"data\": {\"interactionType\": 2, \"questionType\": 2, \"questionId\": \"4_OneHot\", \"learnToolsVersion\": \"0.3.4\", \"valueTowardsCompletion\": 0.0, \"failureMessage\": \"\", \"exceptionClass\": \"\", \"trace\": \"\", \"outcomeType\": 4}}, \"*\")"
      ],
      "text/plain": [
       "<IPython.core.display.Javascript object>"
      ]
     },
     "metadata": {},
     "output_type": "display_data"
    },
    {
     "data": {
      "text/markdown": [
       "<span style=\"color:#3366cc\">Hint:</span> Begin by applying the one-hot encoder to the low cardinality columns in the training and validation data in `X_train[low_cardinality_cols]` and `X_valid[low_cardinality_cols]`, respectively."
      ],
      "text/plain": [
       "Hint: Begin by applying the one-hot encoder to the low cardinality columns in the training and validation data in `X_train[low_cardinality_cols]` and `X_valid[low_cardinality_cols]`, respectively."
      ]
     },
     "metadata": {},
     "output_type": "display_data"
    },
    {
     "data": {
      "application/javascript": [
       "parent.postMessage({\"jupyterEvent\": \"custom.exercise_interaction\", \"data\": {\"interactionType\": 3, \"questionType\": 2, \"questionId\": \"4_OneHot\", \"learnToolsVersion\": \"0.3.4\", \"valueTowardsCompletion\": 0.0, \"failureMessage\": \"\", \"exceptionClass\": \"\", \"trace\": \"\", \"outcomeType\": 4}}, \"*\")"
      ],
      "text/plain": [
       "<IPython.core.display.Javascript object>"
      ]
     },
     "metadata": {},
     "output_type": "display_data"
    },
    {
     "data": {
      "text/markdown": [
       "<span style=\"color:#33cc99\">Solution:</span> \n",
       "```python\n",
       "# Apply one-hot encoder to each column with categorical data\n",
       "OH_encoder = OneHotEncoder(handle_unknown='ignore', sparse=False)\n",
       "OH_cols_train = pd.DataFrame(OH_encoder.fit_transform(X_train[low_cardinality_cols]))\n",
       "OH_cols_valid = pd.DataFrame(OH_encoder.transform(X_valid[low_cardinality_cols]))\n",
       "\n",
       "# One-hot encoding removed index; put it back\n",
       "OH_cols_train.index = X_train.index\n",
       "OH_cols_valid.index = X_valid.index\n",
       "\n",
       "# Remove categorical columns (will replace with one-hot encoding)\n",
       "num_X_train = X_train.drop(object_cols, axis=1)\n",
       "num_X_valid = X_valid.drop(object_cols, axis=1)\n",
       "\n",
       "# Add one-hot encoded columns to numerical features\n",
       "OH_X_train = pd.concat([num_X_train, OH_cols_train], axis=1)\n",
       "OH_X_valid = pd.concat([num_X_valid, OH_cols_valid], axis=1)\n",
       "\n",
       "\n",
       "```"
      ],
      "text/plain": [
       "Solution: \n",
       "```python\n",
       "# Apply one-hot encoder to each column with categorical data\n",
       "OH_encoder = OneHotEncoder(handle_unknown='ignore', sparse=False)\n",
       "OH_cols_train = pd.DataFrame(OH_encoder.fit_transform(X_train[low_cardinality_cols]))\n",
       "OH_cols_valid = pd.DataFrame(OH_encoder.transform(X_valid[low_cardinality_cols]))\n",
       "\n",
       "# One-hot encoding removed index; put it back\n",
       "OH_cols_train.index = X_train.index\n",
       "OH_cols_valid.index = X_valid.index\n",
       "\n",
       "# Remove categorical columns (will replace with one-hot encoding)\n",
       "num_X_train = X_train.drop(object_cols, axis=1)\n",
       "num_X_valid = X_valid.drop(object_cols, axis=1)\n",
       "\n",
       "# Add one-hot encoded columns to numerical features\n",
       "OH_X_train = pd.concat([num_X_train, OH_cols_train], axis=1)\n",
       "OH_X_valid = pd.concat([num_X_valid, OH_cols_valid], axis=1)\n",
       "\n",
       "\n",
       "```"
      ]
     },
     "metadata": {},
     "output_type": "display_data"
    }
   ],
   "source": [
    "# Lines below will give you a hint or solution code\n",
    "step_4.hint()\n",
    "step_4.solution()"
   ]
  },
  {
   "cell_type": "markdown",
   "id": "ad56e39d",
   "metadata": {
    "papermill": {
     "duration": 0.064931,
     "end_time": "2021-07-13T13:21:20.701113",
     "exception": false,
     "start_time": "2021-07-13T13:21:20.636182",
     "status": "completed"
    },
    "tags": []
   },
   "source": [
    "Run the next code cell to get the MAE for this approach."
   ]
  },
  {
   "cell_type": "code",
   "execution_count": 32,
   "id": "f78b0641",
   "metadata": {
    "execution": {
     "iopub.execute_input": "2021-07-13T13:21:20.840205Z",
     "iopub.status.busy": "2021-07-13T13:21:20.833607Z",
     "iopub.status.idle": "2021-07-13T13:21:22.867234Z",
     "shell.execute_reply": "2021-07-13T13:21:22.866458Z",
     "shell.execute_reply.started": "2021-07-13T13:09:59.734274Z"
    },
    "papermill": {
     "duration": 2.101333,
     "end_time": "2021-07-13T13:21:22.867403",
     "exception": false,
     "start_time": "2021-07-13T13:21:20.766070",
     "status": "completed"
    },
    "tags": []
   },
   "outputs": [
    {
     "name": "stdout",
     "output_type": "stream",
     "text": [
      "MAE from Approach 3 (One-Hot Encoding):\n",
      "17525.345719178084\n"
     ]
    }
   ],
   "source": [
    "print(\"MAE from Approach 3 (One-Hot Encoding):\") \n",
    "print(score_dataset(OH_X_train, OH_X_valid, y_train, y_valid))"
   ]
  },
  {
   "cell_type": "markdown",
   "id": "b90fdb1b",
   "metadata": {
    "papermill": {
     "duration": 0.065718,
     "end_time": "2021-07-13T13:21:22.999595",
     "exception": false,
     "start_time": "2021-07-13T13:21:22.933877",
     "status": "completed"
    },
    "tags": []
   },
   "source": [
    "# Generate test predictions and submit your results\n",
    "\n",
    "After you complete Step 4, if you'd like to use what you've learned to submit your results to the leaderboard, you'll need to preprocess the test data before generating predictions.\n",
    "\n",
    "**This step is completely optional, and you do not need to submit results to the leaderboard to successfully complete the exercise.**\n",
    "\n",
    "Check out the previous exercise if you need help with remembering how to [join the competition](https://www.kaggle.com/c/home-data-for-ml-course) or save your results to CSV.  Once you have generated a file with your results, follow the instructions below:\n",
    "1. Begin by clicking on the **Save Version** button in the top right corner of the window.  This will generate a pop-up window.  \n",
    "2. Ensure that the **Save and Run All** option is selected, and then click on the **Save** button.\n",
    "3. This generates a window in the bottom left corner of the notebook.  After it has finished running, click on the number to the right of the **Save Version** button.  This pulls up a list of versions on the right of the screen.  Click on the ellipsis **(...)** to the right of the most recent version, and select **Open in Viewer**.  This brings you into view mode of the same page. You will need to scroll down to get back to these instructions.\n",
    "4. Click on the **Output** tab on the right of the screen.  Then, click on the file you would like to submit, and click on the blue **Submit** button to submit your results to the leaderboard.\n",
    "\n",
    "You have now successfully submitted to the competition!\n",
    "\n",
    "If you want to keep working to improve your performance, select the **Edit** button in the top right of the screen. Then you can change your code and repeat the process. There's a lot of room to improve, and you will climb up the leaderboard as you work.\n"
   ]
  },
  {
   "cell_type": "code",
   "execution_count": 33,
   "id": "1a3399dd",
   "metadata": {
    "execution": {
     "iopub.execute_input": "2021-07-13T13:21:23.153778Z",
     "iopub.status.busy": "2021-07-13T13:21:23.152925Z",
     "iopub.status.idle": "2021-07-13T13:21:23.157787Z",
     "shell.execute_reply": "2021-07-13T13:21:23.158271Z",
     "shell.execute_reply.started": "2021-07-13T13:10:01.720612Z"
    },
    "papermill": {
     "duration": 0.092187,
     "end_time": "2021-07-13T13:21:23.158482",
     "exception": false,
     "start_time": "2021-07-13T13:21:23.066295",
     "status": "completed"
    },
    "tags": []
   },
   "outputs": [
    {
     "name": "stdout",
     "output_type": "stream",
     "text": [
      "<class 'pandas.core.frame.DataFrame'>\n",
      "Int64Index: 1168 entries, 619 to 685\n",
      "Data columns (total 60 columns):\n",
      " #   Column         Non-Null Count  Dtype \n",
      "---  ------         --------------  ----- \n",
      " 0   MSSubClass     1168 non-null   int64 \n",
      " 1   MSZoning       1168 non-null   object\n",
      " 2   LotArea        1168 non-null   int64 \n",
      " 3   Street         1168 non-null   object\n",
      " 4   LotShape       1168 non-null   object\n",
      " 5   LandContour    1168 non-null   object\n",
      " 6   Utilities      1168 non-null   object\n",
      " 7   LotConfig      1168 non-null   object\n",
      " 8   LandSlope      1168 non-null   object\n",
      " 9   Neighborhood   1168 non-null   object\n",
      " 10  Condition1     1168 non-null   object\n",
      " 11  Condition2     1168 non-null   object\n",
      " 12  BldgType       1168 non-null   object\n",
      " 13  HouseStyle     1168 non-null   object\n",
      " 14  OverallQual    1168 non-null   int64 \n",
      " 15  OverallCond    1168 non-null   int64 \n",
      " 16  YearBuilt      1168 non-null   int64 \n",
      " 17  YearRemodAdd   1168 non-null   int64 \n",
      " 18  RoofStyle      1168 non-null   object\n",
      " 19  RoofMatl       1168 non-null   object\n",
      " 20  Exterior1st    1168 non-null   object\n",
      " 21  Exterior2nd    1168 non-null   object\n",
      " 22  ExterQual      1168 non-null   object\n",
      " 23  ExterCond      1168 non-null   object\n",
      " 24  Foundation     1168 non-null   object\n",
      " 25  BsmtFinSF1     1168 non-null   int64 \n",
      " 26  BsmtFinSF2     1168 non-null   int64 \n",
      " 27  BsmtUnfSF      1168 non-null   int64 \n",
      " 28  TotalBsmtSF    1168 non-null   int64 \n",
      " 29  Heating        1168 non-null   object\n",
      " 30  HeatingQC      1168 non-null   object\n",
      " 31  CentralAir     1168 non-null   object\n",
      " 32  1stFlrSF       1168 non-null   int64 \n",
      " 33  2ndFlrSF       1168 non-null   int64 \n",
      " 34  LowQualFinSF   1168 non-null   int64 \n",
      " 35  GrLivArea      1168 non-null   int64 \n",
      " 36  BsmtFullBath   1168 non-null   int64 \n",
      " 37  BsmtHalfBath   1168 non-null   int64 \n",
      " 38  FullBath       1168 non-null   int64 \n",
      " 39  HalfBath       1168 non-null   int64 \n",
      " 40  BedroomAbvGr   1168 non-null   int64 \n",
      " 41  KitchenAbvGr   1168 non-null   int64 \n",
      " 42  KitchenQual    1168 non-null   object\n",
      " 43  TotRmsAbvGrd   1168 non-null   int64 \n",
      " 44  Functional     1168 non-null   object\n",
      " 45  Fireplaces     1168 non-null   int64 \n",
      " 46  GarageCars     1168 non-null   int64 \n",
      " 47  GarageArea     1168 non-null   int64 \n",
      " 48  PavedDrive     1168 non-null   object\n",
      " 49  WoodDeckSF     1168 non-null   int64 \n",
      " 50  OpenPorchSF    1168 non-null   int64 \n",
      " 51  EnclosedPorch  1168 non-null   int64 \n",
      " 52  3SsnPorch      1168 non-null   int64 \n",
      " 53  ScreenPorch    1168 non-null   int64 \n",
      " 54  PoolArea       1168 non-null   int64 \n",
      " 55  MiscVal        1168 non-null   int64 \n",
      " 56  MoSold         1168 non-null   int64 \n",
      " 57  YrSold         1168 non-null   int64 \n",
      " 58  SaleType       1168 non-null   object\n",
      " 59  SaleCondition  1168 non-null   object\n",
      "dtypes: int64(33), object(27)\n",
      "memory usage: 556.6+ KB\n"
     ]
    }
   ],
   "source": [
    "X_train.info()"
   ]
  },
  {
   "cell_type": "code",
   "execution_count": 34,
   "id": "3fd9d03f",
   "metadata": {
    "execution": {
     "iopub.execute_input": "2021-07-13T13:21:23.295623Z",
     "iopub.status.busy": "2021-07-13T13:21:23.294954Z",
     "iopub.status.idle": "2021-07-13T13:21:23.362182Z",
     "shell.execute_reply": "2021-07-13T13:21:23.361423Z",
     "shell.execute_reply.started": "2021-07-13T13:10:01.740250Z"
    },
    "papermill": {
     "duration": 0.138197,
     "end_time": "2021-07-13T13:21:23.362366",
     "exception": false,
     "start_time": "2021-07-13T13:21:23.224169",
     "status": "completed"
    },
    "tags": []
   },
   "outputs": [],
   "source": [
    "X_train = pd.read_csv('../input/train.csv', index_col='Id') \n",
    "X_valid = pd.read_csv('../input/test.csv', index_col='Id')"
   ]
  },
  {
   "cell_type": "code",
   "execution_count": 35,
   "id": "71148c22",
   "metadata": {
    "execution": {
     "iopub.execute_input": "2021-07-13T13:21:23.520769Z",
     "iopub.status.busy": "2021-07-13T13:21:23.509424Z",
     "iopub.status.idle": "2021-07-13T13:21:23.531695Z",
     "shell.execute_reply": "2021-07-13T13:21:23.532295Z",
     "shell.execute_reply.started": "2021-07-13T13:10:01.801921Z"
    },
    "papermill": {
     "duration": 0.104342,
     "end_time": "2021-07-13T13:21:23.532513",
     "exception": false,
     "start_time": "2021-07-13T13:21:23.428171",
     "status": "completed"
    },
    "tags": []
   },
   "outputs": [
    {
     "name": "stdout",
     "output_type": "stream",
     "text": [
      "<class 'pandas.core.frame.DataFrame'>\n",
      "Int64Index: 1460 entries, 1 to 1460\n",
      "Data columns (total 80 columns):\n",
      " #   Column         Non-Null Count  Dtype  \n",
      "---  ------         --------------  -----  \n",
      " 0   MSSubClass     1460 non-null   int64  \n",
      " 1   MSZoning       1460 non-null   object \n",
      " 2   LotFrontage    1201 non-null   float64\n",
      " 3   LotArea        1460 non-null   int64  \n",
      " 4   Street         1460 non-null   object \n",
      " 5   Alley          91 non-null     object \n",
      " 6   LotShape       1460 non-null   object \n",
      " 7   LandContour    1460 non-null   object \n",
      " 8   Utilities      1460 non-null   object \n",
      " 9   LotConfig      1460 non-null   object \n",
      " 10  LandSlope      1460 non-null   object \n",
      " 11  Neighborhood   1460 non-null   object \n",
      " 12  Condition1     1460 non-null   object \n",
      " 13  Condition2     1460 non-null   object \n",
      " 14  BldgType       1460 non-null   object \n",
      " 15  HouseStyle     1460 non-null   object \n",
      " 16  OverallQual    1460 non-null   int64  \n",
      " 17  OverallCond    1460 non-null   int64  \n",
      " 18  YearBuilt      1460 non-null   int64  \n",
      " 19  YearRemodAdd   1460 non-null   int64  \n",
      " 20  RoofStyle      1460 non-null   object \n",
      " 21  RoofMatl       1460 non-null   object \n",
      " 22  Exterior1st    1460 non-null   object \n",
      " 23  Exterior2nd    1460 non-null   object \n",
      " 24  MasVnrType     1452 non-null   object \n",
      " 25  MasVnrArea     1452 non-null   float64\n",
      " 26  ExterQual      1460 non-null   object \n",
      " 27  ExterCond      1460 non-null   object \n",
      " 28  Foundation     1460 non-null   object \n",
      " 29  BsmtQual       1423 non-null   object \n",
      " 30  BsmtCond       1423 non-null   object \n",
      " 31  BsmtExposure   1422 non-null   object \n",
      " 32  BsmtFinType1   1423 non-null   object \n",
      " 33  BsmtFinSF1     1460 non-null   int64  \n",
      " 34  BsmtFinType2   1422 non-null   object \n",
      " 35  BsmtFinSF2     1460 non-null   int64  \n",
      " 36  BsmtUnfSF      1460 non-null   int64  \n",
      " 37  TotalBsmtSF    1460 non-null   int64  \n",
      " 38  Heating        1460 non-null   object \n",
      " 39  HeatingQC      1460 non-null   object \n",
      " 40  CentralAir     1460 non-null   object \n",
      " 41  Electrical     1459 non-null   object \n",
      " 42  1stFlrSF       1460 non-null   int64  \n",
      " 43  2ndFlrSF       1460 non-null   int64  \n",
      " 44  LowQualFinSF   1460 non-null   int64  \n",
      " 45  GrLivArea      1460 non-null   int64  \n",
      " 46  BsmtFullBath   1460 non-null   int64  \n",
      " 47  BsmtHalfBath   1460 non-null   int64  \n",
      " 48  FullBath       1460 non-null   int64  \n",
      " 49  HalfBath       1460 non-null   int64  \n",
      " 50  BedroomAbvGr   1460 non-null   int64  \n",
      " 51  KitchenAbvGr   1460 non-null   int64  \n",
      " 52  KitchenQual    1460 non-null   object \n",
      " 53  TotRmsAbvGrd   1460 non-null   int64  \n",
      " 54  Functional     1460 non-null   object \n",
      " 55  Fireplaces     1460 non-null   int64  \n",
      " 56  FireplaceQu    770 non-null    object \n",
      " 57  GarageType     1379 non-null   object \n",
      " 58  GarageYrBlt    1379 non-null   float64\n",
      " 59  GarageFinish   1379 non-null   object \n",
      " 60  GarageCars     1460 non-null   int64  \n",
      " 61  GarageArea     1460 non-null   int64  \n",
      " 62  GarageQual     1379 non-null   object \n",
      " 63  GarageCond     1379 non-null   object \n",
      " 64  PavedDrive     1460 non-null   object \n",
      " 65  WoodDeckSF     1460 non-null   int64  \n",
      " 66  OpenPorchSF    1460 non-null   int64  \n",
      " 67  EnclosedPorch  1460 non-null   int64  \n",
      " 68  3SsnPorch      1460 non-null   int64  \n",
      " 69  ScreenPorch    1460 non-null   int64  \n",
      " 70  PoolArea       1460 non-null   int64  \n",
      " 71  PoolQC         7 non-null      object \n",
      " 72  Fence          281 non-null    object \n",
      " 73  MiscFeature    54 non-null     object \n",
      " 74  MiscVal        1460 non-null   int64  \n",
      " 75  MoSold         1460 non-null   int64  \n",
      " 76  YrSold         1460 non-null   int64  \n",
      " 77  SaleType       1460 non-null   object \n",
      " 78  SaleCondition  1460 non-null   object \n",
      " 79  SalePrice      1460 non-null   int64  \n",
      "dtypes: float64(3), int64(34), object(43)\n",
      "memory usage: 923.9+ KB\n"
     ]
    }
   ],
   "source": [
    "X_train.info()"
   ]
  },
  {
   "cell_type": "code",
   "execution_count": 36,
   "id": "97af1629",
   "metadata": {
    "execution": {
     "iopub.execute_input": "2021-07-13T13:21:23.674157Z",
     "iopub.status.busy": "2021-07-13T13:21:23.673383Z",
     "iopub.status.idle": "2021-07-13T13:21:23.676684Z",
     "shell.execute_reply": "2021-07-13T13:21:23.675993Z",
     "shell.execute_reply.started": "2021-07-13T13:10:01.828538Z"
    },
    "papermill": {
     "duration": 0.077797,
     "end_time": "2021-07-13T13:21:23.676862",
     "exception": false,
     "start_time": "2021-07-13T13:21:23.599065",
     "status": "completed"
    },
    "tags": []
   },
   "outputs": [],
   "source": [
    "#from sklearn.model_selection import train_test_split\n",
    "X = X_train.drop(['SalePrice'],axis=1)\n",
    "y = X_train['SalePrice']\n",
    "X_train = X\n",
    "y_train = y"
   ]
  },
  {
   "cell_type": "code",
   "execution_count": 37,
   "id": "edb62179",
   "metadata": {
    "execution": {
     "iopub.execute_input": "2021-07-13T13:21:23.821769Z",
     "iopub.status.busy": "2021-07-13T13:21:23.818369Z",
     "iopub.status.idle": "2021-07-13T13:21:23.860229Z",
     "shell.execute_reply": "2021-07-13T13:21:23.859457Z",
     "shell.execute_reply.started": "2021-07-13T13:10:01.837730Z"
    },
    "papermill": {
     "duration": 0.116256,
     "end_time": "2021-07-13T13:21:23.860394",
     "exception": false,
     "start_time": "2021-07-13T13:21:23.744138",
     "status": "completed"
    },
    "tags": []
   },
   "outputs": [],
   "source": [
    "\n",
    "\n",
    "# \"Cardinality\" means the number of unique values in a column\n",
    "# Select categorical columns with relatively low cardinality (convenient but arbitrary)\n",
    "categorical_cols = [cname for cname in X_train.columns if X_train[cname].nunique() < 10 and \n",
    "                        X_train[cname].dtype == \"object\"]\n",
    "\n",
    "# Select numerical columns\n",
    "numerical_cols = [cname for cname in X_train.columns if X_train[cname].dtype in ['int64', 'float64']]\n",
    "\n",
    "# Keep selected columns only\n",
    "my_cols = categorical_cols + numerical_cols\n",
    "X_train = X_train[my_cols].copy()\n",
    "X_valid = X_valid[my_cols].copy()"
   ]
  },
  {
   "cell_type": "code",
   "execution_count": 38,
   "id": "bc2df0ab",
   "metadata": {
    "execution": {
     "iopub.execute_input": "2021-07-13T13:21:24.002975Z",
     "iopub.status.busy": "2021-07-13T13:21:24.002114Z",
     "iopub.status.idle": "2021-07-13T13:21:24.020682Z",
     "shell.execute_reply": "2021-07-13T13:21:24.019933Z",
     "shell.execute_reply.started": "2021-07-13T13:10:01.889245Z"
    },
    "papermill": {
     "duration": 0.093661,
     "end_time": "2021-07-13T13:21:24.020850",
     "exception": false,
     "start_time": "2021-07-13T13:21:23.927189",
     "status": "completed"
    },
    "tags": []
   },
   "outputs": [],
   "source": [
    "from sklearn.compose import ColumnTransformer\n",
    "from sklearn.pipeline import Pipeline\n",
    "from sklearn.impute import SimpleImputer\n",
    "from sklearn.preprocessing import OneHotEncoder\n",
    "\n",
    "# Preprocessing for numerical data\n",
    "numerical_transformer = SimpleImputer(strategy='constant')\n",
    "\n",
    "# Preprocessing for categorical data\n",
    "categorical_transformer = Pipeline(steps=[\n",
    "    ('imputer', SimpleImputer(strategy='most_frequent')),\n",
    "    ('onehot', OneHotEncoder(handle_unknown='ignore'))\n",
    "])\n",
    "\n",
    "# Bundle preprocessing for numerical and categorical data\n",
    "preprocessor = ColumnTransformer(\n",
    "    transformers=[\n",
    "        ('num', numerical_transformer, numerical_cols),\n",
    "        ('cat', categorical_transformer, categorical_cols)\n",
    "    ])"
   ]
  },
  {
   "cell_type": "code",
   "execution_count": 39,
   "id": "0897758a",
   "metadata": {
    "execution": {
     "iopub.execute_input": "2021-07-13T13:21:24.160063Z",
     "iopub.status.busy": "2021-07-13T13:21:24.159332Z",
     "iopub.status.idle": "2021-07-13T13:21:24.163149Z",
     "shell.execute_reply": "2021-07-13T13:21:24.162408Z",
     "shell.execute_reply.started": "2021-07-13T13:10:01.897283Z"
    },
    "papermill": {
     "duration": 0.075806,
     "end_time": "2021-07-13T13:21:24.163320",
     "exception": false,
     "start_time": "2021-07-13T13:21:24.087514",
     "status": "completed"
    },
    "tags": []
   },
   "outputs": [],
   "source": [
    "from sklearn.ensemble import RandomForestRegressor\n",
    "\n",
    "model = RandomForestRegressor(n_estimators=100, random_state=0)"
   ]
  },
  {
   "cell_type": "code",
   "execution_count": 40,
   "id": "c7e35c06",
   "metadata": {
    "execution": {
     "iopub.execute_input": "2021-07-13T13:21:24.309835Z",
     "iopub.status.busy": "2021-07-13T13:21:24.308615Z",
     "iopub.status.idle": "2021-07-13T13:21:27.800180Z",
     "shell.execute_reply": "2021-07-13T13:21:27.799300Z",
     "shell.execute_reply.started": "2021-07-13T13:10:01.912783Z"
    },
    "papermill": {
     "duration": 3.570501,
     "end_time": "2021-07-13T13:21:27.800352",
     "exception": false,
     "start_time": "2021-07-13T13:21:24.229851",
     "status": "completed"
    },
    "tags": []
   },
   "outputs": [],
   "source": [
    "from sklearn.metrics import mean_absolute_error\n",
    "\n",
    "# Bundle preprocessing and modeling code in a pipeline\n",
    "my_pipeline = Pipeline(steps=[('preprocessor', preprocessor),\n",
    "                              ('model', model)\n",
    "                             ])\n",
    "\n",
    "# Preprocessing of training data, fit model \n",
    "my_pipeline.fit(X_train, y_train)\n",
    "\n",
    "# Preprocessing of validation data, get predictions\n",
    "preds = my_pipeline.predict(X_valid)\n",
    "\n"
   ]
  },
  {
   "cell_type": "code",
   "execution_count": 41,
   "id": "fbe76989",
   "metadata": {
    "execution": {
     "iopub.execute_input": "2021-07-13T13:21:27.939233Z",
     "iopub.status.busy": "2021-07-13T13:21:27.938203Z",
     "iopub.status.idle": "2021-07-13T13:21:27.942989Z",
     "shell.execute_reply": "2021-07-13T13:21:27.942323Z",
     "shell.execute_reply.started": "2021-07-13T13:11:26.552626Z"
    },
    "papermill": {
     "duration": 0.076703,
     "end_time": "2021-07-13T13:21:27.943144",
     "exception": false,
     "start_time": "2021-07-13T13:21:27.866441",
     "status": "completed"
    },
    "tags": []
   },
   "outputs": [
    {
     "data": {
      "text/plain": [
       "(1459,)"
      ]
     },
     "execution_count": 41,
     "metadata": {},
     "output_type": "execute_result"
    }
   ],
   "source": [
    "preds.shape"
   ]
  },
  {
   "cell_type": "code",
   "execution_count": 42,
   "id": "9bc8b4b5",
   "metadata": {
    "execution": {
     "iopub.execute_input": "2021-07-13T13:21:28.084036Z",
     "iopub.status.busy": "2021-07-13T13:21:28.083241Z",
     "iopub.status.idle": "2021-07-13T13:21:28.086991Z",
     "shell.execute_reply": "2021-07-13T13:21:28.087450Z",
     "shell.execute_reply.started": "2021-07-13T13:17:32.153734Z"
    },
    "papermill": {
     "duration": 0.077998,
     "end_time": "2021-07-13T13:21:28.087646",
     "exception": false,
     "start_time": "2021-07-13T13:21:28.009648",
     "status": "completed"
    },
    "tags": []
   },
   "outputs": [
    {
     "data": {
      "text/plain": [
       "Int64Index([1461, 1462, 1463, 1464, 1465, 1466, 1467, 1468, 1469, 1470,\n",
       "            ...\n",
       "            2910, 2911, 2912, 2913, 2914, 2915, 2916, 2917, 2918, 2919],\n",
       "           dtype='int64', name='Id', length=1459)"
      ]
     },
     "execution_count": 42,
     "metadata": {},
     "output_type": "execute_result"
    }
   ],
   "source": [
    "X_valid.index"
   ]
  },
  {
   "cell_type": "code",
   "execution_count": 43,
   "id": "03b66ab3",
   "metadata": {
    "execution": {
     "iopub.execute_input": "2021-07-13T13:21:28.232289Z",
     "iopub.status.busy": "2021-07-13T13:21:28.231176Z",
     "iopub.status.idle": "2021-07-13T13:21:28.243301Z",
     "shell.execute_reply": "2021-07-13T13:21:28.242675Z",
     "shell.execute_reply.started": "2021-07-13T13:19:18.836638Z"
    },
    "papermill": {
     "duration": 0.086642,
     "end_time": "2021-07-13T13:21:28.243459",
     "exception": false,
     "start_time": "2021-07-13T13:21:28.156817",
     "status": "completed"
    },
    "tags": []
   },
   "outputs": [],
   "source": [
    "# Save test predictions to file\n",
    "output = pd.DataFrame({'Id': X_valid.index,\n",
    "                       'SalePrice': preds})\n",
    "output.to_csv('submission.csv', index=False)\n"
   ]
  },
  {
   "cell_type": "code",
   "execution_count": 44,
   "id": "e2bcc340",
   "metadata": {
    "execution": {
     "iopub.execute_input": "2021-07-13T13:21:28.386848Z",
     "iopub.status.busy": "2021-07-13T13:21:28.386145Z",
     "iopub.status.idle": "2021-07-13T13:21:28.396970Z",
     "shell.execute_reply": "2021-07-13T13:21:28.397469Z",
     "shell.execute_reply.started": "2021-07-13T13:20:31.166570Z"
    },
    "papermill": {
     "duration": 0.086215,
     "end_time": "2021-07-13T13:21:28.397662",
     "exception": false,
     "start_time": "2021-07-13T13:21:28.311447",
     "status": "completed"
    },
    "tags": []
   },
   "outputs": [
    {
     "data": {
      "text/html": [
       "<div>\n",
       "<style scoped>\n",
       "    .dataframe tbody tr th:only-of-type {\n",
       "        vertical-align: middle;\n",
       "    }\n",
       "\n",
       "    .dataframe tbody tr th {\n",
       "        vertical-align: top;\n",
       "    }\n",
       "\n",
       "    .dataframe thead th {\n",
       "        text-align: right;\n",
       "    }\n",
       "</style>\n",
       "<table border=\"1\" class=\"dataframe\">\n",
       "  <thead>\n",
       "    <tr style=\"text-align: right;\">\n",
       "      <th></th>\n",
       "      <th>Id</th>\n",
       "      <th>SalePrice</th>\n",
       "    </tr>\n",
       "  </thead>\n",
       "  <tbody>\n",
       "    <tr>\n",
       "      <th>0</th>\n",
       "      <td>1461</td>\n",
       "      <td>127037.50</td>\n",
       "    </tr>\n",
       "    <tr>\n",
       "      <th>1</th>\n",
       "      <td>1462</td>\n",
       "      <td>154298.90</td>\n",
       "    </tr>\n",
       "    <tr>\n",
       "      <th>2</th>\n",
       "      <td>1463</td>\n",
       "      <td>175342.51</td>\n",
       "    </tr>\n",
       "    <tr>\n",
       "      <th>3</th>\n",
       "      <td>1464</td>\n",
       "      <td>182159.40</td>\n",
       "    </tr>\n",
       "    <tr>\n",
       "      <th>4</th>\n",
       "      <td>1465</td>\n",
       "      <td>200251.98</td>\n",
       "    </tr>\n",
       "  </tbody>\n",
       "</table>\n",
       "</div>"
      ],
      "text/plain": [
       "     Id  SalePrice\n",
       "0  1461  127037.50\n",
       "1  1462  154298.90\n",
       "2  1463  175342.51\n",
       "3  1464  182159.40\n",
       "4  1465  200251.98"
      ]
     },
     "execution_count": 44,
     "metadata": {},
     "output_type": "execute_result"
    }
   ],
   "source": [
    "pd.read_csv('./submission.csv').head()"
   ]
  },
  {
   "cell_type": "code",
   "execution_count": null,
   "id": "c66efa5c",
   "metadata": {
    "papermill": {
     "duration": 0.066402,
     "end_time": "2021-07-13T13:21:28.532163",
     "exception": false,
     "start_time": "2021-07-13T13:21:28.465761",
     "status": "completed"
    },
    "tags": []
   },
   "outputs": [],
   "source": []
  },
  {
   "cell_type": "markdown",
   "id": "56f5d210",
   "metadata": {
    "papermill": {
     "duration": 0.066731,
     "end_time": "2021-07-13T13:21:28.666066",
     "exception": false,
     "start_time": "2021-07-13T13:21:28.599335",
     "status": "completed"
    },
    "tags": []
   },
   "source": [
    "# Keep going\n",
    "\n",
    "With missing value handling and categorical encoding, your modeling process is getting complex. This complexity gets worse when you want to save your model to use in the future. The key to managing this complexity is something called **pipelines**. \n",
    "\n",
    "**[Learn to use pipelines](https://www.kaggle.com/alexisbcook/pipelines)** to preprocess datasets with categorical variables, missing values and any other messiness your data throws at you."
   ]
  },
  {
   "cell_type": "markdown",
   "id": "4d441c58",
   "metadata": {
    "papermill": {
     "duration": 0.066244,
     "end_time": "2021-07-13T13:21:28.799437",
     "exception": false,
     "start_time": "2021-07-13T13:21:28.733193",
     "status": "completed"
    },
    "tags": []
   },
   "source": [
    "---\n",
    "\n",
    "\n",
    "\n",
    "\n",
    "*Have questions or comments? Visit the [Learn Discussion forum](https://www.kaggle.com/learn-forum/161289) to chat with other Learners.*"
   ]
  }
 ],
 "metadata": {
  "kernelspec": {
   "display_name": "Python 3",
   "language": "python",
   "name": "python3"
  },
  "language_info": {
   "codemirror_mode": {
    "name": "ipython",
    "version": 3
   },
   "file_extension": ".py",
   "mimetype": "text/x-python",
   "name": "python",
   "nbconvert_exporter": "python",
   "pygments_lexer": "ipython3",
   "version": "3.7.10"
  },
  "papermill": {
   "default_parameters": {},
   "duration": 29.031174,
   "end_time": "2021-07-13T13:21:30.453397",
   "environment_variables": {},
   "exception": null,
   "input_path": "__notebook__.ipynb",
   "output_path": "__notebook__.ipynb",
   "parameters": {},
   "start_time": "2021-07-13T13:21:01.422223",
   "version": "2.3.3"
  }
 },
 "nbformat": 4,
 "nbformat_minor": 5
}
